{
 "cells": [
  {
   "cell_type": "markdown",
   "metadata": {},
   "source": [
    "**You may need to install [OpenCV](https://pypi.python.org/pypi/opencv-python) and [scikit-video](http://www.scikit-video.org/stable/).**"
   ]
  },
  {
   "cell_type": "code",
   "execution_count": 5,
   "metadata": {},
   "outputs": [
    {
     "name": "stderr",
     "output_type": "stream",
     "text": [
      "/Users/samuelhurault/anaconda3/lib/python3.6/site-packages/h5py/__init__.py:34: FutureWarning: Conversion of the second argument of issubdtype from `float` to `np.floating` is deprecated. In future, it will be treated as `np.float64 == np.dtype(float).type`.\n",
      "  from ._conv import register_converters as _register_converters\n",
      "Using TensorFlow backend.\n"
     ]
    }
   ],
   "source": [
    "import keras\n",
    "import numpy as np\n",
    "import io\n",
    "import base64\n",
    "from IPython.display import HTML\n",
    "import skvideo.io\n",
    "from random import randint\n",
    "import cv2\n",
    "import json\n",
    "import matplotlib.pyplot as plt\n",
    "\n",
    "from keras.models import Sequential,model_from_json\n",
    "from keras.layers.core import Dense\n",
    "from keras.optimizers import sgd\n",
    "from keras.layers import Conv2D, MaxPooling2D, Activation, AveragePooling2D,Reshape,BatchNormalization, Flatten"
   ]
  },
  {
   "cell_type": "markdown",
   "metadata": {},
   "source": [
    "# MiniProject #3: Deep Reinforcement Learning"
   ]
  },
  {
   "cell_type": "markdown",
   "metadata": {},
   "source": [
    "__Notations__: $E_p$ is the expectation under probability $p$. Please justify each of your answer and widely comment your code."
   ]
  },
  {
   "cell_type": "markdown",
   "metadata": {},
   "source": [
    "# Context"
   ]
  },
  {
   "cell_type": "markdown",
   "metadata": {},
   "source": [
    "In a reinforcement learning algorithm, we modelize each step $t$ as an action $a_t$ obtained from a state $s_t$, i.e. $\\{(a_{t},s_{t})_{t\\leq T}\\}$ having the Markov property. We consider a discount factor $\\gamma \\in [0,1]$ that ensures convergence. The goal is to find among all the policies $\\pi$, one that maximizes the expected reward:\n",
    "\n",
    "\\begin{equation*}\n",
    "R(\\pi)=\\sum_{t\\leq T}E_{p^{\\pi}}[\\gamma^t r(s_{t},a_{t})] \\> ,\n",
    "\\end{equation*}\n",
    "\n",
    "where: \n",
    "\\begin{equation*}p^{\\pi}(a_{0},a_{1},s_{1},...,a_{T},s_{T})=p(a_{0})\\prod_{t=1}^{T}\\pi(a_{t}|s_{t})p(s_{t+1}|s_{t},a_{t}) \\> .\n",
    "\\end{equation*}\n",
    "\n",
    "We note the $Q$-function:\n",
    "\n",
    "\\begin{equation*}Q^\\pi(s,a)=E_{p^{\\pi}}[\\sum_{t\\leq T}\\gamma^{t}r(s_{t},a_{t})|s_{0}=s,a_{0}=a] \\> .\n",
    "\\end{equation*}\n",
    "\n",
    "Thus, the optimal Q function is:\n",
    "\\begin{equation*}\n",
    "Q^*(s,a)=\\max_{\\pi}Q^\\pi(s,a) \\> .\n",
    "\\end{equation*}\n",
    "\n",
    "In this project, we will apply the deep reinforcement learning techniques to a simple game: an agent will have to learn from scratch a policy that will permit it maximizing a reward."
   ]
  },
  {
   "cell_type": "markdown",
   "metadata": {},
   "source": [
    "## The environment, the agent and the game"
   ]
  },
  {
   "cell_type": "markdown",
   "metadata": {},
   "source": [
    "### The environment"
   ]
  },
  {
   "cell_type": "markdown",
   "metadata": {},
   "source": [
    "```Environment``` is an abstract class that represents the states, rewards, and actions to obtain the new state."
   ]
  },
  {
   "cell_type": "code",
   "execution_count": 6,
   "metadata": {
    "collapsed": true
   },
   "outputs": [],
   "source": [
    "class Environment(object):\n",
    "    def __init__(self):\n",
    "        pass\n",
    "\n",
    "    def act(self, act):\n",
    "        \"\"\"\n",
    "        One can act on the environment and obtain its reaction:\n",
    "        - the new state\n",
    "        - the reward of the new state\n",
    "        - should we continue the game?\n",
    "\n",
    "        :return: state, reward, game_over\n",
    "        \"\"\"\n",
    "        pass\n",
    "\n",
    "\n",
    "    def reset(self):\n",
    "        \"\"\"\n",
    "        Reinitialize the environment to a random state and returns\n",
    "        the original state\n",
    "\n",
    "        :return: state\n",
    "        \"\"\"\n",
    "        pass\n",
    "    \n",
    "    def draw(self):\n",
    "        \"\"\"\n",
    "        Visualize in the console or graphically the current state\n",
    "        \"\"\"\n",
    "        pass"
   ]
  },
  {
   "cell_type": "markdown",
   "metadata": {},
   "source": [
    "The method ```act``` allows to act on the environment at a given state $s_t$ (stored internally), via action $a_t$. The method will return the new state $s_{t+1}$, the reward $r(s_{t},a_{t})$ and determines if $t\\leq T$ (*game_over*).\n",
    "\n",
    "The method ```reset``` simply reinitializes the environment to a random state $s_0$.\n",
    "\n",
    "The method ```draw``` displays the current state $s_t$ (this is useful to check the behavior of the Agent).\n",
    "\n",
    "We modelize $s_t$ as a tensor, while $a_t$ is an integer."
   ]
  },
  {
   "cell_type": "markdown",
   "metadata": {},
   "source": [
    "### The Agent"
   ]
  },
  {
   "cell_type": "markdown",
   "metadata": {},
   "source": [
    "The goal of the ```Agent``` is to interact with the ```Environment``` by proposing actions $a_t$ obtained from a given state $s_t$ to attempt to maximize its __reward__ $r(s_t,a_t)$. We propose the following abstract class:"
   ]
  },
  {
   "cell_type": "code",
   "execution_count": 7,
   "metadata": {
    "collapsed": true
   },
   "outputs": [],
   "source": [
    "class Agent(object):\n",
    "    def __init__(self, epsilon=0.1, n_action=4):\n",
    "        self.epsilon = epsilon\n",
    "        self.n_action = n_action\n",
    "    \n",
    "    def set_epsilon(self,e):\n",
    "        self.epsilon = e\n",
    "\n",
    "    def act(self,s,train=True):\n",
    "        \"\"\" This function should return the next action to do:\n",
    "        an integer between 0 and 4 (not included) with a random exploration of epsilon\"\"\"\n",
    "        if train:\n",
    "            if np.random.rand() <= self.epsilon:\n",
    "                a = np.random.randint(0, self.n_action, size=1)[0]\n",
    "            else:\n",
    "                a = self.learned_act(s)\n",
    "        else: # in some cases, this can improve the performance.. remove it if poor performances\n",
    "            a = self.learned_act(s)\n",
    "\n",
    "        return a\n",
    "\n",
    "    def learned_act(self,s):\n",
    "        \"\"\" Act via the policy of the agent, from a given state s\n",
    "        it proposes an action a\"\"\"\n",
    "        pass\n",
    "\n",
    "    def reinforce(self, s, n_s, a, r, game_over_):\n",
    "        \"\"\" This function is the core of the learning algorithm. \n",
    "        It takes as an input the current state s_, the next state n_s_\n",
    "        the action a_ used to move from s_ to n_s_ and the reward r_.\n",
    "        \n",
    "        Its goal is to learn a policy.\n",
    "        \"\"\"\n",
    "        pass\n",
    "\n",
    "    def save(self):\n",
    "        \"\"\" This function returns basic stats if applicable: the\n",
    "        loss and/or the model\"\"\"\n",
    "        pass\n",
    "\n",
    "    def load(self):\n",
    "        \"\"\" This function allows to restore a model\"\"\"\n",
    "        pass"
   ]
  },
  {
   "cell_type": "markdown",
   "metadata": {},
   "source": [
    "***\n",
    "__Question 1__:\n",
    "Explain the function act. Why is ```epsilon``` essential?"
   ]
  },
  {
   "cell_type": "markdown",
   "metadata": {},
   "source": [
    "The function act returns an action $a_t$ from the current state $s_t$. $\\epsilon$ is used to act following an $\\epsilon$-greedy policy if $train$ is True. During training, at each step, we choose a random policy with probability $\\epsilon$ and the optimal policy with probability $1-\\epsilon$. This strategy favors exploration"
   ]
  },
  {
   "cell_type": "markdown",
   "metadata": {},
   "source": [
    "***\n",
    "### The Game"
   ]
  },
  {
   "cell_type": "markdown",
   "metadata": {},
   "source": [
    "The ```Agent``` and the ```Environment``` work in an interlaced way as in the following (take some time to understand this code as it is the core of the project)\n",
    "\n",
    "```python\n",
    "\n",
    "epoch = 300\n",
    "env = Environment()\n",
    "agent = Agent()\n",
    "\n",
    "\n",
    "# Number of won games\n",
    "score = 0\n",
    "loss = 0\n",
    "\n",
    "\n",
    "for e in range(epoch):\n",
    "    # At each epoch, we restart to a fresh game and get the initial state\n",
    "    state = env.reset()\n",
    "    # This assumes that the games will end\n",
    "    game_over = False\n",
    "\n",
    "    win = 0\n",
    "    lose = 0\n",
    "    \n",
    "    while not game_over:\n",
    "        # The agent performs an action\n",
    "        action = agent.act(state)\n",
    "\n",
    "        # Apply an action to the environment, get the next state, the reward\n",
    "        # and if the games end\n",
    "        prev_state = state\n",
    "        state, reward, game_over = env.act(action)\n",
    "\n",
    "        # Update the counters\n",
    "        if reward > 0:\n",
    "            win = win + reward\n",
    "        if reward < 0:\n",
    "            lose = lose -reward\n",
    "\n",
    "        # Apply the reinforcement strategy\n",
    "        loss = agent.reinforce(prev_state, state,  action, reward, game_over)\n",
    "\n",
    "    # Save as a mp4\n",
    "    if e % 10 == 0:\n",
    "        env.draw(e)\n",
    "\n",
    "    # Update stats\n",
    "    score += win-lose\n",
    "\n",
    "    print(\"Epoch {:03d}/{:03d} | Loss {:.4f} | Win/lose count {}/{} ({})\"\n",
    "          .format(e, epoch, loss, win, lose, win-lose))\n",
    "    agent.save()\n",
    "```"
   ]
  },
  {
   "cell_type": "markdown",
   "metadata": {},
   "source": [
    "# The game, *eat cheese*"
   ]
  },
  {
   "cell_type": "markdown",
   "metadata": {},
   "source": [
    "A rat runs on an island and tries to eat as much as possible. The island is subdivided into $N\\times N$ cells, in which there are cheese (+0.5) and poisonous cells (-1). The rat has a visibility of 2 cells (thus it can see $5^2$ cells). The rat is given a time $T$ to accumulate as much food as possible. It can perform 4 actions: going up, down, left, right. \n",
    "\n",
    "The goal is to code an agent to solve this task that will learn by trial and error. We propose the following environment:"
   ]
  },
  {
   "cell_type": "code",
   "execution_count": 8,
   "metadata": {
    "collapsed": true
   },
   "outputs": [],
   "source": [
    "class Environment(object):\n",
    "    def __init__(self, grid_size=10, max_time=500, temperature=0.1):\n",
    "        grid_size = grid_size+4\n",
    "        self.grid_size = grid_size\n",
    "        self.max_time = max_time\n",
    "        self.temperature = temperature\n",
    "\n",
    "        #board on which one plays\n",
    "        self.board = np.zeros((grid_size,grid_size))\n",
    "        self.position = np.zeros((grid_size,grid_size))\n",
    "\n",
    "        # coordinate of the cat\n",
    "        self.x = 0\n",
    "        self.y = 1\n",
    "\n",
    "        # self time\n",
    "        self.t = 0\n",
    "\n",
    "        self.scale=16\n",
    "\n",
    "        self.to_draw = np.zeros((max_time+2, grid_size*self.scale, grid_size*self.scale, 3))\n",
    "\n",
    "\n",
    "    def draw(self,e):\n",
    "        skvideo.io.vwrite(str(e) + '.mp4', self.to_draw, outputdict={\"-pix_fmt\": \"yuv420p\"})\n",
    "\n",
    "    def get_frame(self,t):\n",
    "        b = np.zeros((self.grid_size,self.grid_size,3))+128\n",
    "        b[self.board>0,0] = 256\n",
    "        b[self.board< 0, 2] = 256\n",
    "        b[self.x,self.y,:]=256\n",
    "        b[-2:,:,:]=0\n",
    "        b[:,-2:,:]=0\n",
    "        b[:2,:,:]=0\n",
    "        b[:,:2,:]=0\n",
    "        \n",
    "        b =  cv2.resize(b, None, fx=self.scale, fy=self.scale, interpolation=cv2.INTER_NEAREST)\n",
    "        self.to_draw[t,:,:,:]=b\n",
    "\n",
    "\n",
    "    def act(self, action):\n",
    "        \"\"\"This function returns the new state, reward and decides if the\n",
    "        game ends.\"\"\"\n",
    "\n",
    "        self.get_frame(int(self.t))\n",
    "\n",
    "        self.position = np.zeros((self.grid_size, self.grid_size))\n",
    "\n",
    "        self.position[0:2,:]= -1\n",
    "        self.position[:,0:2] = -1\n",
    "        self.position[-2:, :] = -1\n",
    "        self.position[-2:, :] = -1\n",
    "\n",
    "        self.position[self.x, self.y] = 1\n",
    "        if action == 0:\n",
    "            if self.x == self.grid_size-3:\n",
    "                self.x = self.x-1\n",
    "            else:\n",
    "                self.x = self.x + 1\n",
    "        elif action == 1:\n",
    "            if self.x == 2:\n",
    "                self.x = self.x+1\n",
    "            else:\n",
    "                self.x = self.x-1\n",
    "        elif action == 2:\n",
    "            if self.y == self.grid_size - 3:\n",
    "                self.y = self.y - 1\n",
    "            else:\n",
    "                self.y = self.y + 1\n",
    "        elif action == 3:\n",
    "            if self.y == 2:\n",
    "                self.y = self.y + 1\n",
    "            else:\n",
    "                self.y = self.y - 1\n",
    "        else:\n",
    "            RuntimeError('Error: action not recognized')\n",
    "\n",
    "        self.t = self.t + 1\n",
    "        reward = self.board[self.x, self.y]\n",
    "        self.board[self.x, self.y] = 0\n",
    "        game_over = self.t > self.max_time\n",
    "        state = np.concatenate((self.board.reshape(self.grid_size, self.grid_size,1),\n",
    "                        self.position.reshape(self.grid_size, self.grid_size,1)),axis=2)\n",
    "        state = state[self.x-2:self.x+3,self.y-2:self.y+3,:]\n",
    "\n",
    "        return state, reward, game_over\n",
    "\n",
    "    def reset(self):\n",
    "        \"\"\"This function resets the game and returns the initial state\"\"\"\n",
    "\n",
    "        self.x = np.random.randint(3, self.grid_size-3, size=1)[0]\n",
    "        self.y = np.random.randint(3, self.grid_size-3, size=1)[0]\n",
    "\n",
    "\n",
    "        bonus = 0.5*np.random.binomial(1,self.temperature,size=self.grid_size**2)\n",
    "        bonus = bonus.reshape(self.grid_size,self.grid_size)\n",
    "\n",
    "        malus = -1.0*np.random.binomial(1,self.temperature,size=self.grid_size**2)\n",
    "        malus = malus.reshape(self.grid_size, self.grid_size)\n",
    "\n",
    "        self.to_draw = np.zeros((self.max_time+2, self.grid_size*self.scale, self.grid_size*self.scale, 3))\n",
    "\n",
    "        malus[bonus>0]=0\n",
    "\n",
    "        self.board = bonus + malus\n",
    "\n",
    "        self.position = np.zeros((self.grid_size, self.grid_size))\n",
    "        self.position[0:2,:]= -1\n",
    "        self.position[:,0:2] = -1\n",
    "        self.position[-2:, :] = -1\n",
    "        self.position[-2:, :] = -1\n",
    "        self.board[self.x,self.y] = 0\n",
    "        self.t = 0\n",
    "\n",
    "        state = np.concatenate((\n",
    "                               self.board.reshape(self.grid_size, self.grid_size,1),\n",
    "                        self.position.reshape(self.grid_size, self.grid_size,1)),axis=2)\n",
    "\n",
    "        state = state[self.x - 2:self.x + 3, self.y - 2:self.y + 3, :]\n",
    "        return state"
   ]
  },
  {
   "cell_type": "markdown",
   "metadata": {},
   "source": [
    "The following elements are important because they correspond to the hyper parameters for this project:"
   ]
  },
  {
   "cell_type": "code",
   "execution_count": 9,
   "metadata": {
    "collapsed": true
   },
   "outputs": [],
   "source": [
    "# parameters\n",
    "size = 13\n",
    "T=200\n",
    "temperature=0.3\n",
    "epochs_train=100 # set small when debugging\n",
    "epochs_test=30 # set small when debugging\n",
    "\n",
    "# display videos\n",
    "def display_videos(name):\n",
    "    video = io.open(name, 'r+b').read()\n",
    "    encoded = base64.b64encode(video)\n",
    "    return '''<video alt=\"test\" controls>\n",
    "                <source src=\"data:video/mp4;base64,{0}\" type=\"video/mp4\" />\n",
    "             </video>'''.format(encoded.decode('ascii'))"
   ]
  },
  {
   "cell_type": "markdown",
   "metadata": {},
   "source": [
    "__Question 2__ Explain the use of the arrays ```position``` and ```board```."
   ]
  },
  {
   "cell_type": "markdown",
   "metadata": {},
   "source": [
    "The array $position$ defines where the agent is on the board. It has values -1 on thee extra boarders where the agent can not go, 0 where it can go and 1 on its current position. The array $board$ defines the reward associated to every cell."
   ]
  },
  {
   "cell_type": "markdown",
   "metadata": {},
   "source": [
    "## Random Agent"
   ]
  },
  {
   "cell_type": "markdown",
   "metadata": {},
   "source": [
    "***\n",
    "__Question 3__ Implement a random Agent (only ```learned_act``` needs to be implemented):"
   ]
  },
  {
   "cell_type": "code",
   "execution_count": 10,
   "metadata": {},
   "outputs": [],
   "source": [
    "class RandomAgent(Agent):\n",
    "    def __init__(self):\n",
    "        super(RandomAgent, self).__init__()\n",
    "        pass\n",
    "\n",
    "    def learned_act(self, s):\n",
    "        action = np.random.randint(4)\n",
    "        return(action)"
   ]
  },
  {
   "cell_type": "markdown",
   "metadata": {},
   "source": [
    "***\n",
    "***\n",
    "__Question 4__ Visualize the game moves. You need to fill in the following function for the evaluation:"
   ]
  },
  {
   "cell_type": "code",
   "execution_count": 11,
   "metadata": {
    "collapsed": true
   },
   "outputs": [],
   "source": [
    "def test(agent,env,epochs,prefix=''):\n",
    "    # Number of won games\n",
    "    score = 0\n",
    "        \n",
    "    for e in range(epochs):\n",
    "        \n",
    "        ##### FILL IN HERE\n",
    "        \n",
    "        # At each epoch, we restart to a fresh game and get the initial state\n",
    "        state = env.reset()\n",
    "        # This assumes that the games will end\n",
    "        game_over = False\n",
    "\n",
    "        win = 0\n",
    "        lose = 0\n",
    "\n",
    "        while not game_over:\n",
    "            \n",
    "            # The agent performs an action\n",
    "            action = agent.act(state)\n",
    "\n",
    "            # Apply an action to the environment, get the next state, the reward\n",
    "            # and if the games end\n",
    "            prev_state = state\n",
    "            state, reward, game_over = env.act(action)\n",
    "\n",
    "            # Update the counters\n",
    "            if reward > 0:\n",
    "                win = win + reward\n",
    "            if reward < 0:\n",
    "                lose = lose - reward\n",
    "\n",
    "        # Save as a mp4\n",
    "        env.draw(prefix+str(e))\n",
    "\n",
    "        # Update stats\n",
    "        score = score + win - lose\n",
    "\n",
    "        print(\"Win/lose count {}/{}. Average score ({})\"\n",
    "              .format(win, lose, score/(1+e)))\n",
    "    print('Final score: '+str(score/epochs))"
   ]
  },
  {
   "cell_type": "code",
   "execution_count": 8,
   "metadata": {},
   "outputs": [
    {
     "name": "stdout",
     "output_type": "stream",
     "text": [
      "Win/lose count 11.5/10.0. Average score (1.5)\n",
      "Win/lose count 11.0/14.0. Average score (-0.75)\n",
      "Win/lose count 14.5/15.0. Average score (-0.6666666666666666)\n",
      "Win/lose count 9.5/14.0. Average score (-1.625)\n",
      "Win/lose count 6.0/16.0. Average score (-3.3)\n",
      "Win/lose count 16.5/21.0. Average score (-3.5)\n",
      "Win/lose count 10.5/8.0. Average score (-2.642857142857143)\n",
      "Win/lose count 9.0/14.0. Average score (-2.9375)\n",
      "Win/lose count 9.5/15.0. Average score (-3.2222222222222223)\n",
      "Win/lose count 11.0/17.0. Average score (-3.5)\n",
      "Win/lose count 9.5/16.0. Average score (-3.772727272727273)\n",
      "Win/lose count 12.0/13.0. Average score (-3.5416666666666665)\n",
      "Win/lose count 10.0/14.0. Average score (-3.576923076923077)\n",
      "Win/lose count 9.0/8.0. Average score (-3.25)\n",
      "Win/lose count 14.0/19.0. Average score (-3.3666666666666667)\n",
      "Win/lose count 8.0/8.0. Average score (-3.15625)\n",
      "Win/lose count 9.0/8.0. Average score (-2.911764705882353)\n",
      "Win/lose count 12.5/13.0. Average score (-2.7777777777777777)\n",
      "Win/lose count 10.0/12.0. Average score (-2.736842105263158)\n",
      "Win/lose count 12.0/10.0. Average score (-2.5)\n",
      "Win/lose count 7.0/9.0. Average score (-2.4761904761904763)\n",
      "Win/lose count 8.5/16.0. Average score (-2.7045454545454546)\n",
      "Win/lose count 13.5/10.0. Average score (-2.4347826086956523)\n",
      "Win/lose count 13.5/17.0. Average score (-2.4791666666666665)\n",
      "Win/lose count 6.5/14.0. Average score (-2.68)\n",
      "Win/lose count 10.0/15.0. Average score (-2.769230769230769)\n",
      "Win/lose count 5.5/7.0. Average score (-2.7222222222222223)\n",
      "Win/lose count 10.5/16.0. Average score (-2.8214285714285716)\n",
      "Win/lose count 11.0/10.0. Average score (-2.689655172413793)\n",
      "Win/lose count 7.5/15.0. Average score (-2.85)\n",
      "Final score: -2.85\n"
     ]
    },
    {
     "data": {
      "text/html": [
       "<video alt=\"test\" controls>\n",
       "                <source src=\"data:video/mp4;base64,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\" type=\"video/mp4\" />\n",
       "             </video>"
      ],
      "text/plain": [
       "<IPython.core.display.HTML object>"
      ]
     },
     "execution_count": 8,
     "metadata": {},
     "output_type": "execute_result"
    }
   ],
   "source": [
    "# Initialize the game\n",
    "env = Environment(grid_size=size, max_time=T,temperature=temperature)\n",
    "\n",
    "# Initialize the agent!\n",
    "agent = RandomAgent()\n",
    "\n",
    "test(agent,env,epochs_test,prefix='random')\n",
    "HTML(display_videos('random0.mp4'))"
   ]
  },
  {
   "cell_type": "markdown",
   "metadata": {},
   "source": [
    "***\n",
    "## DQN"
   ]
  },
  {
   "cell_type": "markdown",
   "metadata": {},
   "source": [
    "Let us assume here that $T=\\infty$.\n",
    "\n",
    "***\n",
    "__Question 5__ Let $\\pi$ be a policy, show that:\n",
    "\n",
    "\\begin{equation*}\n",
    "Q^{\\pi}(s,a)=E_{(s',a')\\sim p(.|s,a)}[r(s,a)+\\gamma Q^{\\pi}(s',a')]\n",
    "\\end{equation*}\n",
    "\n",
    "Then, show that for the optimal policy $\\pi^*$ (we assume its existence), the following holds: \n",
    "\n",
    "\\begin{equation*}\n",
    "Q^{*}(s,a)=E_{s'\\sim \\pi^*(.|s,a)}[r(s,a)+\\gamma\\max_{a'}Q^{*}(s',a')].\n",
    "\\end{equation*}\n",
    "Finally, deduce that a plausible objective is:\n",
    "\n",
    "\\begin{equation*}\n",
    "\\mathcal{L}(\\theta)=E_{s' \\sim \\pi^*(.|s,a)}\\Vert r+\\gamma\\max\\max_{a'}Q(s',a',\\theta)-Q(s,a,\\theta)\\Vert^{2}.\n",
    "\\end{equation*}\n",
    "\n",
    "\n"
   ]
  },
  {
   "cell_type": "markdown",
   "metadata": {},
   "source": [
    "First we show that the Q-function verifies the Bellman equation : \n",
    "\n",
    "\\begin{align}\n",
    "Q^{\\pi}(s,a)&=E[ \\sum_{t=0}^{\\infty} \\gamma^t r_{t}|s_0 = s, a_0 = a] \\\\\n",
    "& = E[ r(s,a) + \\sum_{t=1}^{\\infty} \\gamma^t r_{t}|s_0 = s, a_0 = a] \\\\\n",
    "& =  r(s,a) + \\gamma E[E[\\sum_{t=0}^{\\infty}[\\gamma^t r_{t+1}|s_{1}=s',a_{1}=a']|s_0 = s, a_0 = a] \\\\\n",
    "& =  r(s,a) + \\gamma \\sum_{(s',a')}(p(s_{1}=s',a_{1}=a' |s_0 = s, a_0 = a )[E[\\sum_{t=0}^{\\infty}\\gamma^t r_{t+1}|s_{1}=s',a_{1}=a']\\\\\n",
    "&=E_{(s',a')\\sim p(.|s,a)}[r(s,a)+\\gamma Q^{\\pi}(s',a')]\n",
    "\\end{align}\n",
    "\n",
    "Where we re-conditonned at lign 3 on the value at time 1.\n",
    "\n",
    "We show then the second equation :\n",
    "\n",
    "\\begin{align}\n",
    "Q^{*}(s,a) &= \\max_{\\pi}E_{(s',a')\\sim p(.|s,a)}[r(s,a)+\\gamma Q^{\\pi}(s',a')] \\\\\n",
    "&= \\max_{\\pi}r(s,a) + \\gamma \\sum_{(s',a')}(p(s_{1}=s',a_{1}=a' |s_0 = s, a_0 = a )Q^{\\pi}(s',a')\\\\ \n",
    "&= r(s,a) + \\gamma \\max_{\\pi} \\sum_{(s',a')}(p(s_{1}=s',a_{1}=a' |s_0 = s, a_0 = a )Q^{\\pi}(s',a') \\\\\n",
    "&= r(s,a) + \\gamma \\sum_{s'}(p(s_{1}=s'|s_0 = s, a_0 = a )\\max_{(a',\\pi')} Q^{\\pi'}(s',a') \\\\\n",
    "&= r(s,a) + \\gamma \\sum(p(s_{t+1}=s' |s_t = s, a_t = a )\\max_{a'} Q^{*}(s',a') \\\\ \n",
    "&=E_{s'\\sim \\pi^*(.|s,a)}[r(s,a)+\\gamma\\max_{a'}Q^{*}(s',a')].\n",
    "\\end{align}\n",
    "\n",
    "The proposed objective function is based on this equality."
   ]
  },
  {
   "cell_type": "code",
   "execution_count": 14,
   "metadata": {
    "collapsed": true
   },
   "outputs": [],
   "source": [
    "class Memory(object):\n",
    "    def __init__(self, max_memory=100):\n",
    "        self.max_memory = max_memory\n",
    "        self.memory = list()\n",
    "\n",
    "    def remember(self, m):\n",
    "        self.memory.append(m)\n",
    "        if len(self.memory)>self.max_memory:\n",
    "            del self.memory[0]\n",
    "\n",
    "    def random_access(self):\n",
    "        return(self.memory[randint(0,len(self.memory)-1)])"
   ]
  },
  {
   "cell_type": "markdown",
   "metadata": {},
   "source": [
    "***\n",
    "The pipeline we will use for training is given below:"
   ]
  },
  {
   "cell_type": "code",
   "execution_count": 13,
   "metadata": {
    "collapsed": true
   },
   "outputs": [],
   "source": [
    "def train(agent,env,epoch,prefix=''):\n",
    "    # Number of won games\n",
    "    score = 0\n",
    "    loss = 0\n",
    "\n",
    "    for e in range(epoch):\n",
    "        # At each epoch, we restart to a fresh game and get the initial state\n",
    "        state = env.reset()\n",
    "        # This assumes that the games will terminate\n",
    "        game_over = False\n",
    "\n",
    "        win = 0\n",
    "        lose = 0\n",
    "\n",
    "        while not game_over:\n",
    "            # The agent performs an action\n",
    "            action = agent.act(state,train=True)\n",
    "\n",
    "            # Apply an action to the environment, get the next state, the reward\n",
    "            # and if the games end\n",
    "            prev_state = state\n",
    "            state, reward, game_over = env.act(action)\n",
    "\n",
    "            # Update the counters\n",
    "            if reward > 0:\n",
    "                win = win + reward\n",
    "            if reward < 0:\n",
    "                lose = lose - reward\n",
    "\n",
    "            # Apply the reinforcement strategy\n",
    "            loss = agent.reinforce(prev_state, state,  action, reward, game_over)\n",
    "\n",
    "        # Save as a mp4\n",
    "        if e % 10 == 0:\n",
    "            env.draw(prefix+str(e))\n",
    "\n",
    "        # Update stats\n",
    "        score += win-lose\n",
    "\n",
    "        print(\"Epoch {:03d}/{:03d} | Loss {:.4f} | Win/lose count {}/{} ({})\"\n",
    "              .format(e, epoch, loss, win, lose, win-lose))\n",
    "        agent.save(name_weights=prefix+'model.h5',name_model=prefix+'model.json')"
   ]
  },
  {
   "cell_type": "markdown",
   "metadata": {},
   "source": [
    "***\n",
    "__Question 7__ Implement the DQN training algorithm using a cascade of fully connected layers. You can use different learning rate, batch size or memory size parameters. In particular, the loss might oscillate while the player will start to win the games. You have to find a good criterium."
   ]
  },
  {
   "cell_type": "code",
   "execution_count": 12,
   "metadata": {
    "collapsed": true
   },
   "outputs": [],
   "source": [
    "class DQN(Agent):\n",
    "    def __init__(self, grid_size,  epsilon = 0.1, memory_size=100, batch_size = 16, n_state=2):\n",
    "        super(DQN, self).__init__(epsilon = epsilon)\n",
    "\n",
    "        # Discount for Q learning\n",
    "        self.discount = 0.99\n",
    "        \n",
    "        self.grid_size = grid_size\n",
    "        \n",
    "        # number of state\n",
    "        self.n_state = n_state\n",
    "\n",
    "        # Memory\n",
    "        self.memory = Memory(memory_size)\n",
    "        \n",
    "        # Batch size when learning\n",
    "        self.batch_size = batch_size\n",
    "\n",
    "    def learned_act(self, s):\n",
    "        state =  np.expand_dims(s, axis=0)\n",
    "        q = self.model.predict(state)\n",
    "        return(np.argmax(q))\n",
    "\n",
    "    def reinforce(self, s_, n_s_, a_, r_, game_over_):\n",
    "        # Two steps: first memorize the states, second learn from the pool\n",
    "\n",
    "        self.memory.remember([s_, n_s_, a_, r_, game_over_])\n",
    "        \n",
    "        input_states = np.zeros((self.batch_size,5,5,self.n_state))\n",
    "        target_q = np.zeros((self.batch_size, 4))\n",
    "        \n",
    "        for i in range(self.batch_size):\n",
    "            state, next_state, action, reward, game_over = self.memory.random_access()\n",
    "            input_states[i,:,:,:] = state\n",
    "            next_state =  np.expand_dims(next_state, axis=0)\n",
    "            state =  np.expand_dims(state, axis=0)\n",
    "            target_q[i] = self.model.predict(state)\n",
    "            if game_over_:\n",
    "                target_q[i,action] = reward\n",
    "            else : \n",
    "                target_q[i,action] = reward + self.discount*np.max(self.model.predict(next_state))\n",
    "        # HINT: Clip the target to avoid exploiding gradients.. -- clipping is a bit tighter\n",
    "        target_q = np.clip(target_q, -3, 3)\n",
    "\n",
    "        l = self.model.train_on_batch(input_states, target_q)\n",
    "\n",
    "        return l\n",
    "\n",
    "    def save(self,name_weights='model.h5',name_model='model.json'):\n",
    "        self.model.save_weights(name_weights, overwrite=True)\n",
    "        with open(name_model, \"w\") as outfile:\n",
    "            json.dump(self.model.to_json(), outfile)\n",
    "            \n",
    "    def load(self,name_weights='model.h5',name_model='model.json'):\n",
    "        with open(name_model, \"r\") as jfile:\n",
    "            model = model_from_json(json.load(jfile))\n",
    "        model.load_weights(name_weights)\n",
    "        model.compile(\"sgd\", \"mse\")\n",
    "        self.model = model\n",
    "\n",
    "            \n",
    "class DQN_FC(DQN):\n",
    "    def __init__(self, *args, lr=0.1,**kwargs):\n",
    "        super(DQN_FC, self).__init__( *args,**kwargs)\n",
    "        \n",
    "        # NN Model\n",
    "        model = Sequential()\n",
    "        model.add(Flatten(input_shape=(5,5,self.n_state)))\n",
    "        model.add(Dense(32, activation='relu'))\n",
    "        model.add(Dense(4, activation='linear'))\n",
    "        model.compile(sgd(lr=lr, decay=1e-4, momentum=0.0), \"mse\")\n",
    "        self.model = model\n",
    "        model.summary()"
   ]
  },
  {
   "cell_type": "code",
   "execution_count": 12,
   "metadata": {},
   "outputs": [
    {
     "name": "stdout",
     "output_type": "stream",
     "text": [
      "_________________________________________________________________\n",
      "Layer (type)                 Output Shape              Param #   \n",
      "=================================================================\n",
      "flatten_1 (Flatten)          (None, 50)                0         \n",
      "_________________________________________________________________\n",
      "dense_1 (Dense)              (None, 32)                1632      \n",
      "_________________________________________________________________\n",
      "dense_2 (Dense)              (None, 4)                 132       \n",
      "=================================================================\n",
      "Total params: 1,764\n",
      "Trainable params: 1,764\n",
      "Non-trainable params: 0\n",
      "_________________________________________________________________\n",
      "Epoch 000/100 | Loss 0.6620 | Win/lose count 2.0/0 (2.0)\n",
      "Epoch 001/100 | Loss 1.9104 | Win/lose count 2.5/1.0 (1.5)\n",
      "Epoch 002/100 | Loss 2.0698 | Win/lose count 3.5/4.0 (-0.5)\n",
      "Epoch 003/100 | Loss 2.0450 | Win/lose count 1.5/2.0 (-0.5)\n",
      "Epoch 004/100 | Loss 1.9214 | Win/lose count 3.5/3.0 (0.5)\n",
      "Epoch 005/100 | Loss 1.8632 | Win/lose count 2.5/4.0 (-1.5)\n",
      "Epoch 006/100 | Loss 1.9899 | Win/lose count 1.5/2.0 (-0.5)\n",
      "Epoch 007/100 | Loss 1.8710 | Win/lose count 5.5/7.0 (-1.5)\n",
      "Epoch 008/100 | Loss 2.0066 | Win/lose count 4.5/2.0 (2.5)\n",
      "Epoch 009/100 | Loss 1.9931 | Win/lose count 3.0/6.0 (-3.0)\n",
      "Epoch 010/100 | Loss 1.8701 | Win/lose count 4.5/3.0 (1.5)\n",
      "Epoch 011/100 | Loss 1.8534 | Win/lose count 0.5/2.0 (-1.5)\n",
      "Epoch 012/100 | Loss 1.7483 | Win/lose count 3.0/5.0 (-2.0)\n",
      "Epoch 013/100 | Loss 1.7767 | Win/lose count 0.5/2.0 (-1.5)\n",
      "Epoch 014/100 | Loss 1.7775 | Win/lose count 1.0/3.0 (-2.0)\n",
      "Epoch 015/100 | Loss 1.7994 | Win/lose count 4.0/1.0 (3.0)\n",
      "Epoch 016/100 | Loss 1.8305 | Win/lose count 3.5/3.0 (0.5)\n",
      "Epoch 017/100 | Loss 1.9002 | Win/lose count 5.5/6.0 (-0.5)\n",
      "Epoch 018/100 | Loss 1.7995 | Win/lose count 0.5/1.0 (-0.5)\n",
      "Epoch 019/100 | Loss 1.8912 | Win/lose count 4.5/4.0 (0.5)\n",
      "Epoch 020/100 | Loss 1.7261 | Win/lose count 1.5/2.0 (-0.5)\n",
      "Epoch 021/100 | Loss 1.7558 | Win/lose count 2.0/6.0 (-4.0)\n",
      "Epoch 022/100 | Loss 1.7088 | Win/lose count 5.0/5.0 (0.0)\n",
      "Epoch 023/100 | Loss 1.6460 | Win/lose count 2.5/4.0 (-1.5)\n",
      "Epoch 024/100 | Loss 1.6516 | Win/lose count 1.0/3.0 (-2.0)\n",
      "Epoch 025/100 | Loss 1.4493 | Win/lose count 6.5/2.0 (4.5)\n",
      "Epoch 026/100 | Loss 1.5067 | Win/lose count 2.5/2.0 (0.5)\n",
      "Epoch 027/100 | Loss 1.4227 | Win/lose count 3.0/2.0 (1.0)\n",
      "Epoch 028/100 | Loss 1.3779 | Win/lose count 3.0/3.0 (0.0)\n",
      "Epoch 029/100 | Loss 1.3742 | Win/lose count 5.0/6.0 (-1.0)\n",
      "Epoch 030/100 | Loss 1.3840 | Win/lose count 3.0/6.0 (-3.0)\n",
      "Epoch 031/100 | Loss 1.4021 | Win/lose count 2.0/3.0 (-1.0)\n",
      "Epoch 032/100 | Loss 1.2817 | Win/lose count 2.5/3.0 (-0.5)\n",
      "Epoch 033/100 | Loss 1.2959 | Win/lose count 4.5/4.0 (0.5)\n",
      "Epoch 034/100 | Loss 1.3784 | Win/lose count 6.5/4.0 (2.5)\n",
      "Epoch 035/100 | Loss 1.5031 | Win/lose count 10.5/4.0 (6.5)\n",
      "Epoch 036/100 | Loss 1.4982 | Win/lose count 2.0/2.0 (0.0)\n",
      "Epoch 037/100 | Loss 1.4247 | Win/lose count 5.5/2.0 (3.5)\n",
      "Epoch 038/100 | Loss 1.6158 | Win/lose count 7.0/5.0 (2.0)\n",
      "Epoch 039/100 | Loss 1.6369 | Win/lose count 7.0/2.0 (5.0)\n",
      "Epoch 040/100 | Loss 1.6609 | Win/lose count 5.5/2.0 (3.5)\n",
      "Epoch 041/100 | Loss 1.7589 | Win/lose count 3.5/3.0 (0.5)\n",
      "Epoch 042/100 | Loss 1.7744 | Win/lose count 5.5/1.0 (4.5)\n",
      "Epoch 043/100 | Loss 1.8724 | Win/lose count 1.5/1.0 (0.5)\n",
      "Epoch 044/100 | Loss 1.8527 | Win/lose count 6.0/2.0 (4.0)\n",
      "Epoch 045/100 | Loss 1.7013 | Win/lose count 8.0/1.0 (7.0)\n",
      "Epoch 046/100 | Loss 1.7225 | Win/lose count 2.0/1.0 (1.0)\n",
      "Epoch 047/100 | Loss 1.6468 | Win/lose count 6.0/5.0 (1.0)\n",
      "Epoch 048/100 | Loss 1.6837 | Win/lose count 6.5/2.0 (4.5)\n",
      "Epoch 049/100 | Loss 1.6846 | Win/lose count 9.5/3.0 (6.5)\n",
      "Epoch 050/100 | Loss 1.7252 | Win/lose count 15.0/1.0 (14.0)\n",
      "Epoch 051/100 | Loss 1.6497 | Win/lose count 9.0/5.0 (4.0)\n",
      "Epoch 052/100 | Loss 1.5875 | Win/lose count 6.0/4.0 (2.0)\n",
      "Epoch 053/100 | Loss 1.6547 | Win/lose count 7.5/2.0 (5.5)\n",
      "Epoch 054/100 | Loss 1.5707 | Win/lose count 6.5/2.0 (4.5)\n",
      "Epoch 055/100 | Loss 1.5809 | Win/lose count 3.5/4.0 (-0.5)\n",
      "Epoch 056/100 | Loss 1.6669 | Win/lose count 7.0/1.0 (6.0)\n",
      "Epoch 057/100 | Loss 1.6828 | Win/lose count 3.5/3.0 (0.5)\n",
      "Epoch 058/100 | Loss 1.6504 | Win/lose count 7.5/2.0 (5.5)\n",
      "Epoch 059/100 | Loss 1.6696 | Win/lose count 7.0/3.0 (4.0)\n",
      "Epoch 060/100 | Loss 1.5912 | Win/lose count 4.0/5.0 (-1.0)\n",
      "Epoch 061/100 | Loss 1.5156 | Win/lose count 7.5/1.0 (6.5)\n",
      "Epoch 062/100 | Loss 1.5125 | Win/lose count 8.5/2.0 (6.5)\n",
      "Epoch 063/100 | Loss 1.5398 | Win/lose count 6.0/2.0 (4.0)\n",
      "Epoch 064/100 | Loss 1.5731 | Win/lose count 8.0/5.0 (3.0)\n",
      "Epoch 065/100 | Loss 1.5130 | Win/lose count 7.5/3.0 (4.5)\n",
      "Epoch 066/100 | Loss 1.5383 | Win/lose count 14.5/3.0 (11.5)\n",
      "Epoch 067/100 | Loss 1.4416 | Win/lose count 8.0/3.0 (5.0)\n",
      "Epoch 068/100 | Loss 1.5378 | Win/lose count 11.5/4.0 (7.5)\n",
      "Epoch 069/100 | Loss 1.4860 | Win/lose count 9.0/1.0 (8.0)\n",
      "Epoch 070/100 | Loss 1.5783 | Win/lose count 18.5/2.0 (16.5)\n",
      "Epoch 071/100 | Loss 1.6450 | Win/lose count 8.5/3.0 (5.5)\n",
      "Epoch 072/100 | Loss 1.6373 | Win/lose count 3.5/3.0 (0.5)\n",
      "Epoch 073/100 | Loss 1.6150 | Win/lose count 9.5/2.0 (7.5)\n",
      "Epoch 074/100 | Loss 1.6546 | Win/lose count 9.0/1.0 (8.0)\n",
      "Epoch 075/100 | Loss 1.6424 | Win/lose count 14.5/5.0 (9.5)\n",
      "Epoch 076/100 | Loss 1.6813 | Win/lose count 11.5/4.0 (7.5)\n",
      "Epoch 077/100 | Loss 1.6325 | Win/lose count 6.5/3.0 (3.5)\n",
      "Epoch 078/100 | Loss 1.6625 | Win/lose count 15.5/3.0 (12.5)\n",
      "Epoch 079/100 | Loss 1.5836 | Win/lose count 15.5/2.0 (13.5)\n",
      "Epoch 080/100 | Loss 1.6480 | Win/lose count 11.5/2.0 (9.5)\n",
      "Epoch 081/100 | Loss 1.5746 | Win/lose count 9.5/1.0 (8.5)\n",
      "Epoch 082/100 | Loss 1.6499 | Win/lose count 12.5/2.0 (10.5)\n",
      "Epoch 083/100 | Loss 1.6507 | Win/lose count 16.0/1.0 (15.0)\n",
      "Epoch 084/100 | Loss 1.6922 | Win/lose count 16.5/0 (16.5)\n",
      "Epoch 085/100 | Loss 1.7387 | Win/lose count 13.0/0 (13.0)\n",
      "Epoch 086/100 | Loss 1.6860 | Win/lose count 20.0/2.0 (18.0)\n",
      "Epoch 087/100 | Loss 1.7571 | Win/lose count 23.5/4.0 (19.5)\n",
      "Epoch 088/100 | Loss 1.6438 | Win/lose count 2.5/1.0 (1.5)\n",
      "Epoch 089/100 | Loss 1.7593 | Win/lose count 15.0/0 (15.0)\n",
      "Epoch 090/100 | Loss 1.7168 | Win/lose count 17.0/3.0 (14.0)\n",
      "Epoch 091/100 | Loss 1.6677 | Win/lose count 13.5/2.0 (11.5)\n",
      "Epoch 092/100 | Loss 1.7147 | Win/lose count 20.0/1.0 (19.0)\n",
      "Epoch 093/100 | Loss 1.7139 | Win/lose count 13.0/2.0 (11.0)\n",
      "Epoch 094/100 | Loss 1.7692 | Win/lose count 16.0/3.0 (13.0)\n",
      "Epoch 095/100 | Loss 1.7125 | Win/lose count 7.5/1.0 (6.5)\n",
      "Epoch 096/100 | Loss 1.6957 | Win/lose count 12.0/2.0 (10.0)\n",
      "Epoch 097/100 | Loss 1.6556 | Win/lose count 10.0/3.0 (7.0)\n",
      "Epoch 098/100 | Loss 1.7251 | Win/lose count 12.0/2.0 (10.0)\n",
      "Epoch 099/100 | Loss 1.6846 | Win/lose count 21.5/7.0 (14.5)\n"
     ]
    }
   ],
   "source": [
    "env = Environment(grid_size=size, max_time=T, temperature=0.3)\n",
    "agent = DQN_FC(size, lr=.1, epsilon = 0.1, memory_size=2000, batch_size = 32)\n",
    "train(agent, env, epochs_train, prefix='fc_train')"
   ]
  },
  {
   "cell_type": "markdown",
   "metadata": {},
   "source": [
    "***\n",
    "***\n",
    "__Question 8__ Implement the DQN training algorithm using a CNN (for example, 2 convolutional layers and one final fully connected layer)."
   ]
  },
  {
   "cell_type": "code",
   "execution_count": 15,
   "metadata": {
    "collapsed": true
   },
   "outputs": [],
   "source": [
    "class DQN_CNN(DQN):\n",
    "    def __init__(self, *args,lr=0.1,**kwargs):\n",
    "        super(DQN_CNN, self).__init__(*args,**kwargs)\n",
    "        model = Sequential()\n",
    "        model.add(Conv2D(32, 2, data_format = \"channels_last\", input_shape=(5,5,self.n_state), activation='relu'))\n",
    "        model.add(Conv2D(32, 2, activation='relu'))\n",
    "        model.add(Flatten())\n",
    "        model.add(Dense(4, activation='linear'))\n",
    "        model.compile(sgd(lr=lr, decay=1e-4, momentum=0.0), \"mse\")\n",
    "        self.model = model\n",
    "        model.summary()"
   ]
  },
  {
   "cell_type": "markdown",
   "metadata": {},
   "source": [
    "We tries different filter size found that using 32 filters is suitable. The performances are largely improved, and the convergence is faster. Now we train only with 50 epochs"
   ]
  },
  {
   "cell_type": "code",
   "execution_count": 19,
   "metadata": {
    "collapsed": true
   },
   "outputs": [],
   "source": [
    "epochs_train=50"
   ]
  },
  {
   "cell_type": "code",
   "execution_count": 15,
   "metadata": {
    "scrolled": true
   },
   "outputs": [
    {
     "name": "stdout",
     "output_type": "stream",
     "text": [
      "_________________________________________________________________\n",
      "Layer (type)                 Output Shape              Param #   \n",
      "=================================================================\n",
      "conv2d_1 (Conv2D)            (None, 4, 4, 32)          288       \n",
      "_________________________________________________________________\n",
      "conv2d_2 (Conv2D)            (None, 3, 3, 32)          4128      \n",
      "_________________________________________________________________\n",
      "flatten_2 (Flatten)          (None, 288)               0         \n",
      "_________________________________________________________________\n",
      "dense_3 (Dense)              (None, 4)                 1156      \n",
      "=================================================================\n",
      "Total params: 5,572\n",
      "Trainable params: 5,572\n",
      "Non-trainable params: 0\n",
      "_________________________________________________________________\n",
      "Epoch 000/050 | Loss 0.2979 | Win/lose count 2.5/1.0 (1.5)\n",
      "Epoch 001/050 | Loss 1.9605 | Win/lose count 2.0/0 (2.0)\n",
      "Epoch 002/050 | Loss 2.0766 | Win/lose count 3.0/2.0 (1.0)\n",
      "Epoch 003/050 | Loss 2.0861 | Win/lose count 3.5/8.0 (-4.5)\n",
      "Epoch 004/050 | Loss 2.0095 | Win/lose count 5.0/3.0 (2.0)\n",
      "Epoch 005/050 | Loss 1.8957 | Win/lose count 7.5/6.0 (1.5)\n",
      "Epoch 006/050 | Loss 1.8291 | Win/lose count 6.0/2.0 (4.0)\n",
      "Epoch 007/050 | Loss 1.8368 | Win/lose count 6.0/2.0 (4.0)\n",
      "Epoch 008/050 | Loss 1.9915 | Win/lose count 4.5/3.0 (1.5)\n",
      "Epoch 009/050 | Loss 1.9970 | Win/lose count 10.5/3.0 (7.5)\n",
      "Epoch 010/050 | Loss 1.9327 | Win/lose count 5.5/3.0 (2.5)\n",
      "Epoch 011/050 | Loss 1.9725 | Win/lose count 10.0/2.0 (8.0)\n",
      "Epoch 012/050 | Loss 1.9300 | Win/lose count 15.5/4.0 (11.5)\n",
      "Epoch 013/050 | Loss 1.8859 | Win/lose count 9.0/2.0 (7.0)\n",
      "Epoch 014/050 | Loss 1.8512 | Win/lose count 5.5/0 (5.5)\n",
      "Epoch 015/050 | Loss 1.8706 | Win/lose count 10.5/2.0 (8.5)\n",
      "Epoch 016/050 | Loss 1.8462 | Win/lose count 11.0/1.0 (10.0)\n",
      "Epoch 017/050 | Loss 1.8961 | Win/lose count 4.0/1.0 (3.0)\n",
      "Epoch 018/050 | Loss 1.8659 | Win/lose count 14.0/2.0 (12.0)\n",
      "Epoch 019/050 | Loss 1.8372 | Win/lose count 11.5/3.0 (8.5)\n",
      "Epoch 020/050 | Loss 1.8781 | Win/lose count 9.5/5.0 (4.5)\n",
      "Epoch 021/050 | Loss 1.8515 | Win/lose count 9.0/2.0 (7.0)\n",
      "Epoch 022/050 | Loss 1.9112 | Win/lose count 14.0/6.0 (8.0)\n",
      "Epoch 023/050 | Loss 1.8237 | Win/lose count 6.5/2.0 (4.5)\n",
      "Epoch 024/050 | Loss 1.8438 | Win/lose count 21.0/7.0 (14.0)\n",
      "Epoch 025/050 | Loss 1.8720 | Win/lose count 12.5/3.0 (9.5)\n",
      "Epoch 026/050 | Loss 1.7981 | Win/lose count 8.0/1.0 (7.0)\n",
      "Epoch 027/050 | Loss 1.7923 | Win/lose count 11.0/6.0 (5.0)\n",
      "Epoch 028/050 | Loss 1.7552 | Win/lose count 4.0/4.0 (0.0)\n",
      "Epoch 029/050 | Loss 1.8442 | Win/lose count 21.0/2.0 (19.0)\n",
      "Epoch 030/050 | Loss 1.6946 | Win/lose count 9.5/2.0 (7.5)\n",
      "Epoch 031/050 | Loss 1.8015 | Win/lose count 24.0/1.0 (23.0)\n",
      "Epoch 032/050 | Loss 1.7671 | Win/lose count 7.0/1.0 (6.0)\n",
      "Epoch 033/050 | Loss 1.7743 | Win/lose count 15.0/4.0 (11.0)\n",
      "Epoch 034/050 | Loss 1.7689 | Win/lose count 7.5/3.0 (4.5)\n",
      "Epoch 035/050 | Loss 1.7731 | Win/lose count 17.5/4.0 (13.5)\n",
      "Epoch 036/050 | Loss 1.7697 | Win/lose count 18.0/3.0 (15.0)\n",
      "Epoch 037/050 | Loss 1.7518 | Win/lose count 13.0/5.0 (8.0)\n",
      "Epoch 038/050 | Loss 1.7948 | Win/lose count 19.5/4.0 (15.5)\n",
      "Epoch 039/050 | Loss 1.7907 | Win/lose count 12.0/2.0 (10.0)\n",
      "Epoch 040/050 | Loss 1.7274 | Win/lose count 16.0/1.0 (15.0)\n",
      "Epoch 041/050 | Loss 1.8191 | Win/lose count 19.0/2.0 (17.0)\n",
      "Epoch 042/050 | Loss 1.8114 | Win/lose count 17.0/4.0 (13.0)\n",
      "Epoch 043/050 | Loss 1.7657 | Win/lose count 18.5/5.0 (13.5)\n",
      "Epoch 044/050 | Loss 1.7344 | Win/lose count 8.0/1.0 (7.0)\n",
      "Epoch 045/050 | Loss 1.7139 | Win/lose count 25.0/2.0 (23.0)\n",
      "Epoch 046/050 | Loss 1.7939 | Win/lose count 15.0/6.0 (9.0)\n",
      "Epoch 047/050 | Loss 1.7496 | Win/lose count 11.0/7.0 (4.0)\n",
      "Epoch 048/050 | Loss 1.7237 | Win/lose count 16.0/2.0 (14.0)\n",
      "Epoch 049/050 | Loss 1.7116 | Win/lose count 13.5/2.0 (11.5)\n"
     ]
    },
    {
     "data": {
      "text/html": [
       "<video alt=\"test\" controls>\n",
       "                <source src=\"data:video/mp4;base64,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\" type=\"video/mp4\" />\n",
       "             </video>"
      ],
      "text/plain": [
       "<IPython.core.display.HTML object>"
      ]
     },
     "execution_count": 15,
     "metadata": {},
     "output_type": "execute_result"
    }
   ],
   "source": [
    "env = Environment(grid_size=size, max_time=T, temperature=0.3)\n",
    "agent = DQN_CNN(size, lr=.1, epsilon = 0.1, memory_size=2000, batch_size = 32)\n",
    "train(agent,env,50,prefix='cnn_train')\n",
    "HTML(display_videos('cnn_train10.mp4'))"
   ]
  },
  {
   "cell_type": "markdown",
   "metadata": {},
   "source": [
    "***\n",
    "***\n",
    "__Question 9__ Test both algorithms and compare their performances. Which issue(s) do you observe? Observe also different behaviors by changing the temperature."
   ]
  },
  {
   "cell_type": "markdown",
   "metadata": {},
   "source": [
    "We observe on the previsous video that the agent completely fails at exploring the map. Even if it does not obtain better performances with a bigger epsilon parameter."
   ]
  },
  {
   "cell_type": "code",
   "execution_count": 16,
   "metadata": {
    "scrolled": true
   },
   "outputs": [
    {
     "name": "stdout",
     "output_type": "stream",
     "text": [
      "_________________________________________________________________\n",
      "Layer (type)                 Output Shape              Param #   \n",
      "=================================================================\n",
      "conv2d_3 (Conv2D)            (None, 4, 4, 32)          288       \n",
      "_________________________________________________________________\n",
      "conv2d_4 (Conv2D)            (None, 3, 3, 32)          4128      \n",
      "_________________________________________________________________\n",
      "flatten_3 (Flatten)          (None, 288)               0         \n",
      "_________________________________________________________________\n",
      "dense_4 (Dense)              (None, 4)                 1156      \n",
      "=================================================================\n",
      "Total params: 5,572\n",
      "Trainable params: 5,572\n",
      "Non-trainable params: 0\n",
      "_________________________________________________________________\n",
      "_________________________________________________________________\n",
      "Layer (type)                 Output Shape              Param #   \n",
      "=================================================================\n",
      "flatten_4 (Flatten)          (None, 50)                0         \n",
      "_________________________________________________________________\n",
      "dense_5 (Dense)              (None, 32)                1632      \n",
      "_________________________________________________________________\n",
      "dense_6 (Dense)              (None, 4)                 132       \n",
      "=================================================================\n",
      "Total params: 1,764\n",
      "Trainable params: 1,764\n",
      "Non-trainable params: 0\n",
      "_________________________________________________________________\n",
      "Test of the CNN\n",
      "Win/lose count 9.5/2.0. Average score (7.5)\n",
      "Win/lose count 21.0/5.0. Average score (11.75)\n",
      "Win/lose count 25.0/2.0. Average score (15.5)\n",
      "Win/lose count 28.5/6.0. Average score (17.25)\n",
      "Win/lose count 12.5/3.0. Average score (15.7)\n",
      "Win/lose count 28.0/6.0. Average score (16.75)\n",
      "Win/lose count 30.5/3.0. Average score (18.285714285714285)\n",
      "Win/lose count 29.0/2.0. Average score (19.375)\n",
      "Win/lose count 19.5/1.0. Average score (19.27777777777778)\n",
      "Win/lose count 38.0/7.0. Average score (20.45)\n",
      "Win/lose count 9.0/2.0. Average score (19.227272727272727)\n",
      "Win/lose count 10.0/4.0. Average score (18.125)\n",
      "Win/lose count 11.0/4.0. Average score (17.26923076923077)\n",
      "Win/lose count 21.5/3.0. Average score (17.357142857142858)\n",
      "Win/lose count 15.5/3.0. Average score (17.033333333333335)\n",
      "Win/lose count 13.5/1.0. Average score (16.75)\n",
      "Win/lose count 31.0/5.0. Average score (17.294117647058822)\n",
      "Win/lose count 21.5/1.0. Average score (17.47222222222222)\n",
      "Win/lose count 17.0/2.0. Average score (17.342105263157894)\n",
      "Win/lose count 18.0/1.0. Average score (17.325)\n",
      "Win/lose count 29.0/1.0. Average score (17.833333333333332)\n",
      "Win/lose count 36.5/4.0. Average score (18.5)\n",
      "Win/lose count 40.0/4.0. Average score (19.26086956521739)\n",
      "Win/lose count 14.5/3.0. Average score (18.9375)\n",
      "Win/lose count 9.5/3.0. Average score (18.44)\n",
      "Win/lose count 23.5/2.0. Average score (18.557692307692307)\n",
      "Win/lose count 35.0/1.0. Average score (19.12962962962963)\n",
      "Win/lose count 28.0/2.0. Average score (19.375)\n",
      "Win/lose count 6.0/2.0. Average score (18.844827586206897)\n",
      "Win/lose count 22.0/1.0. Average score (18.916666666666668)\n",
      "Final score: 18.916666666666668\n",
      "Test of the FC\n",
      "Win/lose count 5.5/7.0. Average score (-1.5)\n",
      "Win/lose count 7.0/2.0. Average score (1.75)\n",
      "Win/lose count 7.0/6.0. Average score (1.5)\n",
      "Win/lose count 4.0/5.0. Average score (0.875)\n",
      "Win/lose count 7.5/3.0. Average score (1.6)\n",
      "Win/lose count 4.5/8.0. Average score (0.75)\n",
      "Win/lose count 13.0/4.0. Average score (1.9285714285714286)\n",
      "Win/lose count 4.0/2.0. Average score (1.9375)\n",
      "Win/lose count 9.0/6.0. Average score (2.0555555555555554)\n",
      "Win/lose count 8.5/5.0. Average score (2.2)\n",
      "Win/lose count 8.5/7.0. Average score (2.1363636363636362)\n",
      "Win/lose count 11.0/6.0. Average score (2.375)\n",
      "Win/lose count 2.5/3.0. Average score (2.1538461538461537)\n",
      "Win/lose count 6.5/4.0. Average score (2.1785714285714284)\n",
      "Win/lose count 5.5/4.0. Average score (2.1333333333333333)\n",
      "Win/lose count 6.5/5.0. Average score (2.09375)\n",
      "Win/lose count 5.5/10.0. Average score (1.7058823529411764)\n",
      "Win/lose count 9.0/8.0. Average score (1.6666666666666667)\n",
      "Win/lose count 7.5/6.0. Average score (1.6578947368421053)\n",
      "Win/lose count 4.5/1.0. Average score (1.75)\n",
      "Win/lose count 6.0/9.0. Average score (1.5238095238095237)\n",
      "Win/lose count 6.0/4.0. Average score (1.5454545454545454)\n",
      "Win/lose count 9.0/7.0. Average score (1.565217391304348)\n",
      "Win/lose count 5.0/4.0. Average score (1.5416666666666667)\n",
      "Win/lose count 3.5/6.0. Average score (1.38)\n",
      "Win/lose count 9.0/5.0. Average score (1.4807692307692308)\n",
      "Win/lose count 8.5/4.0. Average score (1.5925925925925926)\n",
      "Win/lose count 9.5/5.0. Average score (1.6964285714285714)\n",
      "Win/lose count 2.5/3.0. Average score (1.6206896551724137)\n",
      "Win/lose count 9.0/2.0. Average score (1.8)\n",
      "Final score: 1.8\n"
     ]
    }
   ],
   "source": [
    "env = Environment(grid_size=size, max_time=T,temperature=0.6)\n",
    "\n",
    "agent_cnn = DQN_CNN(size, lr=.1, epsilon = 0.1, memory_size=2000, batch_size = 32)\n",
    "agent_cnn.load(name_weights='cnn_trainmodel.h5',name_model='cnn_trainmodel.json')\n",
    "\n",
    "agent_fc = DQN_FC(size, lr=.1, epsilon = 0.1, memory_size=2000, batch_size = 32)\n",
    "agent_cnn.load(name_weights='fc_trainmodel.h5',name_model='fc_trainmodel.json')\n",
    "\n",
    "print('Test of the CNN')\n",
    "test(agent_cnn,env,epochs_test,prefix='cnn_test')\n",
    "print('Test of the FC')\n",
    "test(agent_fc,env,epochs_test,prefix='fc_test')"
   ]
  },
  {
   "cell_type": "code",
   "execution_count": 17,
   "metadata": {},
   "outputs": [
    {
     "data": {
      "text/html": [
       "<video alt=\"test\" controls>\n",
       "                <source src=\"data:video/mp4;base64,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\" type=\"video/mp4\" />\n",
       "             </video>"
      ],
      "text/plain": [
       "<IPython.core.display.HTML object>"
      ]
     },
     "execution_count": 17,
     "metadata": {},
     "output_type": "execute_result"
    }
   ],
   "source": [
    "HTML(display_videos('cnn_test20.mp4'))"
   ]
  },
  {
   "cell_type": "code",
   "execution_count": 18,
   "metadata": {
    "scrolled": true
   },
   "outputs": [
    {
     "data": {
      "text/html": [
       "<video alt=\"test\" controls>\n",
       "                <source src=\"data:video/mp4;base64,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\" type=\"video/mp4\" />\n",
       "             </video>"
      ],
      "text/plain": [
       "<IPython.core.display.HTML object>"
      ]
     },
     "execution_count": 18,
     "metadata": {},
     "output_type": "execute_result"
    }
   ],
   "source": [
    "HTML(display_videos('fc_test20.mp4'))"
   ]
  },
  {
   "cell_type": "markdown",
   "metadata": {},
   "source": [
    "We first observe that the CNN performs much better than the fully connected network. And that the difference is even bigger with larger temperatures\n",
    "\n",
    "With bigger temperature, the score inscreses because, at the beginning, it finds a lot of positive reward positions around him. However, once the agent does not have a vision of positive reward blocks in distance, it does not try to explore the map deeply enough."
   ]
  },
  {
   "cell_type": "markdown",
   "metadata": {},
   "source": [
    "***\n",
    "\n",
    "The algorithm tends to not explore the map which can be an issue. We propose two ideas in order to encourage exploration:\n",
    "1. Incorporating a decreasing $\\epsilon$-greedy exploration. You can use the method ```set_epsilon```\n",
    "2. Append via the environment a new state that describes if a cell has been visited or not\n",
    "\n",
    "***\n",
    "__Question 10__ Design a new ```train_explore``` function and environment class ```EnvironmentExploring``` to tackle the issue of exploration.\n",
    "\n"
   ]
  },
  {
   "cell_type": "code",
   "execution_count": null,
   "metadata": {
    "collapsed": true
   },
   "outputs": [],
   "source": [
    "def train_explore(agent,env,epoch,prefix=''):\n",
    "    \n",
    "    # Number of won games\n",
    "    score = 0\n",
    "    loss = 0\n",
    "\n",
    "    for e in range(epoch):\n",
    "        # At each epoch, we restart to a fresh game and get the initial state\n",
    "        state = env.reset()\n",
    "        # This assumes that the games will terminate\n",
    "        game_over = False\n",
    "        win = 0\n",
    "        lose = 0\n",
    "        t = 0\n",
    "        while not game_over:\n",
    "            t+=1\n",
    "            # The agent performs an action\n",
    "            agent.set_epsilon(agent.epsilon/(t+1))\n",
    "            action = agent.act(state,train=True)\n",
    "            # Apply an action to the environment, get the next state, the reward\n",
    "            # and if the games end\n",
    "            prev_state = state\n",
    "            state, reward, game_over = env.act(action,train=True)\n",
    "            # Update the counters\n",
    "            if reward > 0:\n",
    "                win = win + reward\n",
    "            if reward < 0:\n",
    "                lose = lose - reward\n",
    "            # Apply the reinforcement strategy\n",
    "            loss = agent.reinforce(prev_state, state,  action, reward, game_over)\n",
    "        # Save as a mp4\n",
    "        if e % 10 == 0:\n",
    "            env.draw(prefix+str(e))\n",
    "        # Update stats\n",
    "        score += win-lose\n",
    "        print(\"Epoch {:03d}/{:03d} | Loss {:.4f} | Win/lose count {}/{} ({})\"\n",
    "              .format(e, epoch, loss, win, lose, win-lose))\n",
    "        agent.save(name_weights=prefix+'model.h5',name_model=prefix+'model.json')\n",
    "        \n",
    "class EnvironmentExploring(object):\n",
    "    \n",
    "    def __init__(self, minus_value = 0.05, grid_size=10, max_time=500, temperature=0.1):\n",
    "        \n",
    "        grid_size = grid_size+4\n",
    "        self.grid_size = grid_size\n",
    "        self.max_time = max_time\n",
    "        self.temperature = temperature\n",
    "\n",
    "        #board on which one plays\n",
    "        self.board = np.zeros((grid_size,grid_size))\n",
    "        self.position = np.zeros((grid_size,grid_size))\n",
    "        self.malus_position = np.zeros((grid_size,grid_size))\n",
    "\n",
    "        # coordinate of the cat\n",
    "        self.x = 0\n",
    "        self.y = 1\n",
    "\n",
    "        # self time\n",
    "        self.t = 0\n",
    "\n",
    "        self.scale=16\n",
    "\n",
    "        self.to_draw = np.zeros((max_time+2, grid_size*self.scale, grid_size*self.scale, 3))\n",
    "        \n",
    "        self.minus_value = minus_value\n",
    "\n",
    "\n",
    "    def draw(self,e):\n",
    "        skvideo.io.vwrite(str(e) + '.mp4', self.to_draw, outputdict={\"-pix_fmt\": \"yuv420p\"})\n",
    "\n",
    "    def get_frame(self,t):\n",
    "        b = np.zeros((self.grid_size,self.grid_size,3))+128\n",
    "        b[self.board>0,0] = 256\n",
    "        b[self.board< 0, 2] = 256\n",
    "        b[self.x,self.y,:]=256\n",
    "        b[-2:,:,:]=0\n",
    "        b[:,-2:,:]=0\n",
    "        b[:2,:,:]=0\n",
    "        b[:,:2,:]=0\n",
    "        \n",
    "        b =  cv2.resize(b, None, fx=self.scale, fy=self.scale, interpolation=cv2.INTER_NEAREST)\n",
    "        self.to_draw[t,:,:,:]=b\n",
    "\n",
    "\n",
    "    def act(self, action, train=True):\n",
    "        \"\"\"This function returns the new state, reward and decides if the\n",
    "        game ends.\"\"\"\n",
    "\n",
    "        self.get_frame(int(self.t))\n",
    "\n",
    "        self.position = np.zeros((self.grid_size, self.grid_size))\n",
    "\n",
    "        self.position[0:2,:]= -1\n",
    "        self.position[:,0:2] = -1\n",
    "        self.position[-2:, :] = -1\n",
    "        self.position[-2:, :] = -1\n",
    "\n",
    "        self.position[self.x, self.y] = 1\n",
    "        \n",
    "        if action == 0:\n",
    "            if self.x == self.grid_size-3:\n",
    "                self.x = self.x-1\n",
    "            else:\n",
    "                self.x = self.x + 1\n",
    "        elif action == 1:\n",
    "            if self.x == 2:\n",
    "                self.x = self.x+1\n",
    "            else:\n",
    "                self.x = self.x-1\n",
    "        elif action == 2:\n",
    "            if self.y == self.grid_size - 3:\n",
    "                self.y = self.y - 1\n",
    "            else:\n",
    "                self.y = self.y + 1\n",
    "        elif action == 3:\n",
    "            if self.y == 2:\n",
    "                self.y = self.y + 1\n",
    "            else:\n",
    "                self.y = self.y - 1\n",
    "        else:\n",
    "            RuntimeError('Error: action not recognized')\n",
    "\n",
    "        self.t = self.t + 1\n",
    "        \n",
    "        reward = 0\n",
    "        \n",
    "        if train:\n",
    "            reward = -self.malus_position[self.x, self.y]\n",
    "        self.malus_position[self.x, self.y] =  self.minus_value\n",
    "        \n",
    "        reward = reward + self.board[self.x, self.y]\n",
    "        \n",
    "        self.board[self.x, self.y] = 0\n",
    "        \n",
    "        game_over = self.t > self.max_time\n",
    "        \n",
    "        state = np.concatenate((self.malus_position.reshape(self.grid_size, self.grid_size,1),\n",
    "                                self.board.reshape(self.grid_size, self.grid_size,1),\n",
    "                        self.position.reshape(self.grid_size, self.grid_size,1)),axis=2)\n",
    "        \n",
    "        state = state[self.x-2:self.x+3,self.y-2:self.y+3,:]\n",
    "\n",
    "        return state, reward, game_over\n",
    "\n",
    "    def reset(self):\n",
    "        \"\"\"This function resets the game and returns the initial state\"\"\"\n",
    "\n",
    "        self.x = np.random.randint(3, self.grid_size-3, size=1)[0]\n",
    "        self.y = np.random.randint(3, self.grid_size-3, size=1)[0]\n",
    "\n",
    "        bonus = 0.5*np.random.binomial(1,self.temperature,size=self.grid_size**2)\n",
    "        bonus = bonus.reshape(self.grid_size,self.grid_size)\n",
    "\n",
    "        malus = -1.0*np.random.binomial(1,self.temperature,size=self.grid_size**2)\n",
    "        malus = malus.reshape(self.grid_size, self.grid_size)\n",
    "\n",
    "        self.to_draw = np.zeros((self.max_time+2, self.grid_size*self.scale, self.grid_size*self.scale, 3))\n",
    "\n",
    "        malus[bonus>0]=0\n",
    "\n",
    "        self.board = bonus + malus\n",
    "        \n",
    "        self.malus_position = np.zeros((self.grid_size, self.grid_size))\n",
    "\n",
    "        self.position = np.zeros((self.grid_size, self.grid_size))\n",
    "        self.position[0:2,:]= -1\n",
    "        self.position[:,0:2] = -1\n",
    "        self.position[-2:, :] = -1\n",
    "        self.position[-2:, :] = -1\n",
    "        self.board[self.x,self.y] = 0\n",
    "        self.t = 0\n",
    "\n",
    "        state = np.concatenate((self.malus_position.reshape(self.grid_size, self.grid_size,1),\n",
    "                                self.board.reshape(self.grid_size, self.grid_size,1),\n",
    "                        self.position.reshape(self.grid_size, self.grid_size,1)),axis=2)\n",
    "\n",
    "        state = state[self.x - 2:self.x + 3, self.y - 2:self.y + 3, :]\n",
    "        \n",
    "        return state\n",
    "    \n"
   ]
  },
  {
   "cell_type": "markdown",
   "metadata": {},
   "source": [
    "We first choose to add a minus value to already explored positions of 0.05.\n",
    "We try to begin with a bigger epsilon value (0.5 for example) and we decrease it with the rule $epsilon_k = epsilon_{k-1}/k$."
   ]
  },
  {
   "cell_type": "code",
   "execution_count": 22,
   "metadata": {
    "scrolled": true
   },
   "outputs": [
    {
     "name": "stdout",
     "output_type": "stream",
     "text": [
      "_________________________________________________________________\n",
      "Layer (type)                 Output Shape              Param #   \n",
      "=================================================================\n",
      "conv2d_7 (Conv2D)            (None, 4, 4, 32)          416       \n",
      "_________________________________________________________________\n",
      "conv2d_8 (Conv2D)            (None, 3, 3, 32)          4128      \n",
      "_________________________________________________________________\n",
      "flatten_6 (Flatten)          (None, 288)               0         \n",
      "_________________________________________________________________\n",
      "dense_8 (Dense)              (None, 4)                 1156      \n",
      "=================================================================\n",
      "Total params: 5,700\n",
      "Trainable params: 5,700\n",
      "Non-trainable params: 0\n",
      "_________________________________________________________________\n",
      "Epoch 000/050 | Loss 0.0147 | Win/lose count 0.5/12.550000000000054 (-12.050000000000054)\n",
      "Epoch 001/050 | Loss 0.0871 | Win/lose count 5.5/13.45000000000006 (-7.95000000000006)\n",
      "Epoch 002/050 | Loss 0.1644 | Win/lose count 4.0/15.900000000000059 (-11.900000000000059)\n",
      "Epoch 003/050 | Loss 0.1851 | Win/lose count 1.0/10.800000000000018 (-9.800000000000018)\n",
      "Epoch 004/050 | Loss 0.2811 | Win/lose count 1.5/9.349999999999998 (-7.849999999999998)\n",
      "Epoch 005/050 | Loss 0.2449 | Win/lose count 3.0/9.800000000000008 (-6.800000000000008)\n",
      "Epoch 006/050 | Loss 0.2310 | Win/lose count 3.5/9.199999999999996 (-5.699999999999996)\n",
      "Epoch 007/050 | Loss 0.1631 | Win/lose count 5.5/8.84999999999999 (-3.3499999999999908)\n",
      "Epoch 008/050 | Loss 0.1390 | Win/lose count 1.5/9.750000000000004 (-8.250000000000004)\n",
      "Epoch 009/050 | Loss 0.1257 | Win/lose count 3.0/9.249999999999996 (-6.2499999999999964)\n",
      "Epoch 010/050 | Loss 0.1115 | Win/lose count 3.0/9.750000000000007 (-6.750000000000007)\n",
      "Epoch 011/050 | Loss 0.0814 | Win/lose count 5.0/8.949999999999992 (-3.949999999999992)\n",
      "Epoch 012/050 | Loss 0.0557 | Win/lose count 1.5/9.650000000000002 (-8.150000000000002)\n",
      "Epoch 013/050 | Loss 0.0267 | Win/lose count 6.0/11.00000000000001 (-5.000000000000011)\n",
      "Epoch 014/050 | Loss 0.0260 | Win/lose count 11.0/7.94999999999998 (3.0500000000000203)\n",
      "Epoch 015/050 | Loss 0.0308 | Win/lose count 7.5/8.699999999999989 (-1.1999999999999886)\n",
      "Epoch 016/050 | Loss 0.0133 | Win/lose count 5.5/9.600000000000001 (-4.100000000000001)\n",
      "Epoch 017/050 | Loss 0.0119 | Win/lose count 8.0/8.649999999999988 (-0.6499999999999879)\n",
      "Epoch 018/050 | Loss 0.0099 | Win/lose count 5.0/9.099999999999994 (-4.099999999999994)\n",
      "Epoch 019/050 | Loss 0.0037 | Win/lose count 7.0/9.750000000000004 (-2.7500000000000036)\n",
      "Epoch 020/050 | Loss 0.0052 | Win/lose count 13.5/7.7499999999999805 (5.7500000000000195)\n",
      "Epoch 021/050 | Loss 0.0168 | Win/lose count 1.0/9.850000000000005 (-8.850000000000005)\n",
      "Epoch 022/050 | Loss 0.0769 | Win/lose count 5.0/9.149999999999995 (-4.149999999999995)\n",
      "Epoch 023/050 | Loss 0.2141 | Win/lose count 11.0/7.84999999999998 (3.15000000000002)\n",
      "Epoch 024/050 | Loss 1.3585 | Win/lose count 16.5/6.8999999999999835 (9.600000000000016)\n",
      "Epoch 025/050 | Loss 1.3268 | Win/lose count 4.0/9.099999999999994 (-5.099999999999994)\n",
      "Epoch 026/050 | Loss 1.4930 | Win/lose count 12.0/7.4499999999999815 (4.5500000000000185)\n",
      "Epoch 027/050 | Loss 1.6166 | Win/lose count 15.5/6.799999999999984 (8.700000000000017)\n",
      "Epoch 028/050 | Loss 1.3772 | Win/lose count 17.0/8.49999999999999 (8.50000000000001)\n",
      "Epoch 029/050 | Loss 1.3458 | Win/lose count 13.0/8.149999999999984 (4.850000000000016)\n",
      "Epoch 030/050 | Loss 1.2016 | Win/lose count 0.5/9.850000000000005 (-9.350000000000005)\n",
      "Epoch 031/050 | Loss 1.2069 | Win/lose count 5.0/9.199999999999996 (-4.199999999999996)\n",
      "Epoch 032/050 | Loss 1.1683 | Win/lose count 10.5/9.400000000000002 (1.0999999999999979)\n",
      "Epoch 033/050 | Loss 0.9817 | Win/lose count 6.0/8.899999999999991 (-2.8999999999999915)\n",
      "Epoch 034/050 | Loss 1.1187 | Win/lose count 19.0/6.849999999999984 (12.150000000000016)\n",
      "Epoch 035/050 | Loss 1.1532 | Win/lose count 9.5/8.499999999999986 (1.0000000000000142)\n",
      "Epoch 036/050 | Loss 1.1114 | Win/lose count 14.5/7.649999999999981 (6.850000000000019)\n",
      "Epoch 037/050 | Loss 1.1088 | Win/lose count 18.0/8.09999999999998 (9.90000000000002)\n",
      "Epoch 038/050 | Loss 1.1440 | Win/lose count 9.0/8.599999999999987 (0.4000000000000128)\n",
      "Epoch 039/050 | Loss 0.9853 | Win/lose count 8.0/8.74999999999999 (-0.7499999999999893)\n",
      "Epoch 040/050 | Loss 0.8903 | Win/lose count 5.0/10.000000000000007 (-5.000000000000007)\n",
      "Epoch 041/050 | Loss 0.9371 | Win/lose count 8.0/8.399999999999984 (-0.39999999999998437)\n",
      "Epoch 042/050 | Loss 0.8980 | Win/lose count 15.5/7.649999999999981 (7.850000000000019)\n",
      "Epoch 043/050 | Loss 0.9817 | Win/lose count 3.5/9.45 (-5.949999999999999)\n",
      "Epoch 044/050 | Loss 0.9689 | Win/lose count 8.5/8.499999999999986 (1.4210854715202004e-14)\n",
      "Epoch 045/050 | Loss 0.9985 | Win/lose count 16.5/6.799999999999984 (9.700000000000017)\n",
      "Epoch 046/050 | Loss 0.8667 | Win/lose count 3.0/9.149999999999995 (-6.149999999999995)\n",
      "Epoch 047/050 | Loss 0.9478 | Win/lose count 10.0/8.249999999999982 (1.7500000000000178)\n",
      "Epoch 048/050 | Loss 1.0875 | Win/lose count 23.0/6.849999999999987 (16.150000000000013)\n",
      "Epoch 049/050 | Loss 0.9871 | Win/lose count 16.0/10.300000000000018 (5.6999999999999815)\n"
     ]
    },
    {
     "data": {
      "text/html": [
       "<video alt=\"test\" controls>\n",
       "                <source src=\"data:video/mp4;base64,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\" type=\"video/mp4\" />\n",
       "             </video>"
      ],
      "text/plain": [
       "<IPython.core.display.HTML object>"
      ]
     },
     "execution_count": 22,
     "metadata": {},
     "output_type": "execute_result"
    }
   ],
   "source": [
    "# Training\n",
    "env = EnvironmentExploring(grid_size=size, max_time=T, temperature=0.3)\n",
    "agent = DQN_CNN(size, lr=.1, epsilon = 0.5, memory_size=2000, batch_size = 32,n_state=3)\n",
    "train_explore(agent, env, epochs_train, prefix='cnn_train_explore')\n",
    "HTML(display_videos('cnn_train_explore40.mp4'))"
   ]
  },
  {
   "cell_type": "markdown",
   "metadata": {},
   "source": [
    "The exploration issue is not solved. We try a bigger minus_value."
   ]
  },
  {
   "cell_type": "code",
   "execution_count": 33,
   "metadata": {},
   "outputs": [
    {
     "name": "stdout",
     "output_type": "stream",
     "text": [
      "_________________________________________________________________\n",
      "Layer (type)                 Output Shape              Param #   \n",
      "=================================================================\n",
      "conv2d_21 (Conv2D)           (None, 4, 4, 32)          416       \n",
      "_________________________________________________________________\n",
      "conv2d_22 (Conv2D)           (None, 3, 3, 32)          4128      \n",
      "_________________________________________________________________\n",
      "flatten_11 (Flatten)         (None, 288)               0         \n",
      "_________________________________________________________________\n",
      "dense_11 (Dense)             (None, 4)                 1156      \n",
      "=================================================================\n",
      "Total params: 5,700\n",
      "Trainable params: 5,700\n",
      "Non-trainable params: 0\n",
      "_________________________________________________________________\n",
      "Epoch 000/050 | Loss 1.4761 | Win/lose count 14.0/78.5 (-64.5)\n",
      "Epoch 001/050 | Loss 1.1022 | Win/lose count 25.0/44.5 (-19.5)\n",
      "Epoch 002/050 | Loss 0.4460 | Win/lose count 21.5/43.0 (-21.5)\n",
      "Epoch 003/050 | Loss 0.1581 | Win/lose count 22.0/57.5 (-35.5)\n",
      "Epoch 004/050 | Loss 0.6948 | Win/lose count 16.5/56.0 (-39.5)\n",
      "Epoch 005/050 | Loss 0.3553 | Win/lose count 19.5/57.0 (-37.5)\n",
      "Epoch 006/050 | Loss 0.5419 | Win/lose count 19.5/56.0 (-36.5)\n",
      "Epoch 007/050 | Loss 0.5067 | Win/lose count 16.5/62.5 (-46.0)\n",
      "Epoch 008/050 | Loss 0.5789 | Win/lose count 19.0/61.5 (-42.5)\n",
      "Epoch 009/050 | Loss 0.5218 | Win/lose count 24.5/55.0 (-30.5)\n",
      "Epoch 010/050 | Loss 0.4361 | Win/lose count 14.5/77.0 (-62.5)\n",
      "Epoch 011/050 | Loss 0.6635 | Win/lose count 19.0/64.0 (-45.0)\n",
      "Epoch 012/050 | Loss 0.4926 | Win/lose count 18.5/59.0 (-40.5)\n",
      "Epoch 013/050 | Loss 0.6803 | Win/lose count 13.0/67.0 (-54.0)\n",
      "Epoch 014/050 | Loss 0.6376 | Win/lose count 24.5/54.0 (-29.5)\n",
      "Epoch 015/050 | Loss 0.7331 | Win/lose count 19.0/65.5 (-46.5)\n",
      "Epoch 016/050 | Loss 0.5965 | Win/lose count 23.5/54.5 (-31.0)\n",
      "Epoch 017/050 | Loss 0.7104 | Win/lose count 23.5/52.0 (-28.5)\n",
      "Epoch 018/050 | Loss 0.6533 | Win/lose count 26.0/50.5 (-24.5)\n",
      "Epoch 019/050 | Loss 0.7251 | Win/lose count 23.0/48.5 (-25.5)\n",
      "Epoch 020/050 | Loss 0.9864 | Win/lose count 20.5/47.0 (-26.5)\n",
      "Epoch 021/050 | Loss 0.5917 | Win/lose count 19.0/63.0 (-44.0)\n",
      "Epoch 022/050 | Loss 0.7721 | Win/lose count 18.0/65.5 (-47.5)\n",
      "Epoch 023/050 | Loss 0.8533 | Win/lose count 21.5/53.5 (-32.0)\n",
      "Epoch 024/050 | Loss 0.8063 | Win/lose count 26.5/48.5 (-22.0)\n",
      "Epoch 025/050 | Loss 0.9028 | Win/lose count 21.0/53.0 (-32.0)\n",
      "Epoch 026/050 | Loss 0.6784 | Win/lose count 19.5/60.0 (-40.5)\n",
      "Epoch 027/050 | Loss 0.9577 | Win/lose count 21.5/55.0 (-33.5)\n",
      "Epoch 028/050 | Loss 0.7967 | Win/lose count 20.5/64.0 (-43.5)\n",
      "Epoch 029/050 | Loss 0.7175 | Win/lose count 18.5/58.5 (-40.0)\n",
      "Epoch 030/050 | Loss 0.6495 | Win/lose count 27.0/47.5 (-20.5)\n",
      "Epoch 031/050 | Loss 0.8595 | Win/lose count 16.0/68.0 (-52.0)\n",
      "Epoch 032/050 | Loss 0.8099 | Win/lose count 25.0/43.0 (-18.0)\n",
      "Epoch 033/050 | Loss 0.6856 | Win/lose count 15.5/61.0 (-45.5)\n",
      "Epoch 034/050 | Loss 0.9409 | Win/lose count 21.0/57.0 (-36.0)\n",
      "Epoch 035/050 | Loss 0.7800 | Win/lose count 27.5/42.0 (-14.5)\n",
      "Epoch 036/050 | Loss 0.8570 | Win/lose count 20.5/57.0 (-36.5)\n",
      "Epoch 037/050 | Loss 0.7496 | Win/lose count 24.0/44.5 (-20.5)\n",
      "Epoch 038/050 | Loss 0.6795 | Win/lose count 23.5/49.0 (-25.5)\n",
      "Epoch 039/050 | Loss 0.6498 | Win/lose count 28.0/44.5 (-16.5)\n",
      "Epoch 040/050 | Loss 0.7644 | Win/lose count 22.0/55.0 (-33.0)\n",
      "Epoch 041/050 | Loss 0.5525 | Win/lose count 22.5/48.5 (-26.0)\n",
      "Epoch 042/050 | Loss 0.6175 | Win/lose count 20.5/48.0 (-27.5)\n",
      "Epoch 043/050 | Loss 0.6060 | Win/lose count 8.5/82.0 (-73.5)\n",
      "Epoch 044/050 | Loss 0.6141 | Win/lose count 16.5/52.0 (-35.5)\n",
      "Epoch 045/050 | Loss 0.5568 | Win/lose count 25.5/46.5 (-21.0)\n",
      "Epoch 046/050 | Loss 0.6172 | Win/lose count 24.0/45.5 (-21.5)\n",
      "Epoch 047/050 | Loss 0.5690 | Win/lose count 23.5/52.5 (-29.0)\n",
      "Epoch 048/050 | Loss 0.5371 | Win/lose count 16.5/55.0 (-38.5)\n",
      "Epoch 049/050 | Loss 0.6366 | Win/lose count 22.0/52.0 (-30.0)\n"
     ]
    },
    {
     "data": {
      "text/html": [
       "<video alt=\"test\" controls>\n",
       "                <source src=\"data:video/mp4;base64,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\" type=\"video/mp4\" />\n",
       "             </video>"
      ],
      "text/plain": [
       "<IPython.core.display.HTML object>"
      ]
     },
     "execution_count": 33,
     "metadata": {},
     "output_type": "execute_result"
    }
   ],
   "source": [
    "# Training\n",
    "env = EnvironmentExploring(minus_value = 0.5,grid_size=size, max_time=T, temperature=0.3)\n",
    "agent = DQN_CNN(size, lr=.1, epsilon = 1, memory_size=2000, batch_size = 32,n_state=3)\n",
    "train_explore(agent, env, epochs_train, prefix='cnn_train_explore')\n",
    "HTML(display_videos('cnn_train_explore40.mp4'))"
   ]
  },
  {
   "cell_type": "markdown",
   "metadata": {},
   "source": [
    "The performances are much better. The lose count is very high because of the penalization we added. Therefore it is not comparable with the previous model. But in the win count and visually speacking we clearly notice an improvement."
   ]
  },
  {
   "cell_type": "code",
   "execution_count": 38,
   "metadata": {},
   "outputs": [
    {
     "name": "stdout",
     "output_type": "stream",
     "text": [
      "Win/lose count 25.5/51.5. Average score (-26.0)\n",
      "Win/lose count 14.5/67.0. Average score (-39.25)\n",
      "Win/lose count 18.0/67.0. Average score (-42.5)\n",
      "Win/lose count 20.0/56.5. Average score (-41.0)\n",
      "Win/lose count 19.5/57.5. Average score (-40.4)\n",
      "Win/lose count 22.0/59.5. Average score (-39.916666666666664)\n",
      "Win/lose count 19.0/59.0. Average score (-39.92857142857143)\n",
      "Win/lose count 11.5/73.0. Average score (-42.625)\n",
      "Win/lose count 19.0/57.5. Average score (-42.166666666666664)\n",
      "Win/lose count 27.5/46.5. Average score (-39.85)\n",
      "Win/lose count 10.0/82.0. Average score (-42.77272727272727)\n",
      "Win/lose count 17.5/69.0. Average score (-43.5)\n",
      "Win/lose count 20.0/52.5. Average score (-42.65384615384615)\n",
      "Win/lose count 20.5/58.0. Average score (-42.285714285714285)\n",
      "Win/lose count 23.0/49.0. Average score (-41.2)\n",
      "Win/lose count 22.0/63.0. Average score (-41.1875)\n",
      "Win/lose count 15.0/61.0. Average score (-41.470588235294116)\n",
      "Win/lose count 9.5/81.5. Average score (-43.166666666666664)\n",
      "Win/lose count 22.5/53.0. Average score (-42.5)\n",
      "Win/lose count 24.5/49.5. Average score (-41.625)\n",
      "Win/lose count 17.0/70.5. Average score (-42.19047619047619)\n",
      "Win/lose count 9.0/81.0. Average score (-43.54545454545455)\n",
      "Win/lose count 20.0/57.5. Average score (-43.28260869565217)\n",
      "Win/lose count 15.5/68.0. Average score (-43.666666666666664)\n",
      "Win/lose count 16.5/72.0. Average score (-44.14)\n",
      "Win/lose count 14.0/76.5. Average score (-44.84615384615385)\n",
      "Win/lose count 14.0/69.0. Average score (-45.22222222222222)\n",
      "Win/lose count 21.0/56.0. Average score (-44.857142857142854)\n",
      "Win/lose count 20.5/62.5. Average score (-44.758620689655174)\n",
      "Win/lose count 19.0/57.5. Average score (-44.55)\n",
      "Final score: -44.55\n"
     ]
    },
    {
     "data": {
      "text/html": [
       "<video alt=\"test\" controls>\n",
       "                <source src=\"data:video/mp4;base64,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\" type=\"video/mp4\" />\n",
       "             </video>"
      ],
      "text/plain": [
       "<IPython.core.display.HTML object>"
      ]
     },
     "execution_count": 38,
     "metadata": {},
     "output_type": "execute_result"
    }
   ],
   "source": [
    "# Evaluation\n",
    "test(agent,env,epochs_test,prefix='cnn_test_explore')\n",
    "HTML(display_videos('cnn_test_explore20.mp4'))"
   ]
  },
  {
   "cell_type": "markdown",
   "metadata": {},
   "source": [
    "***\n",
    "***\n",
    "__BONUS question__ Use the expert DQN from the previous question to generate some winning games. Train a model that mimicks its behavior. Compare the performances."
   ]
  },
  {
   "cell_type": "markdown",
   "metadata": {},
   "source": [
    "***"
   ]
  }
 ],
 "metadata": {
  "kernelspec": {
   "display_name": "Python 3",
   "language": "python",
   "name": "python3"
  }
 },
 "nbformat": 4,
 "nbformat_minor": 2
}
