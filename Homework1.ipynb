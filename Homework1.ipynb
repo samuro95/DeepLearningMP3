{
 "cells": [
  {
   "cell_type": "markdown",
   "metadata": {},
   "source": [
    "# Mini project 1 : Samuel Hurault"
   ]
  },
  {
   "cell_type": "markdown",
   "metadata": {},
   "source": [
    "## Simple Classification"
   ]
  },
  {
   "cell_type": "code",
   "execution_count": 1,
   "metadata": {},
   "outputs": [
    {
     "name": "stderr",
     "output_type": "stream",
     "text": [
      "/Users/samuelhurault/anaconda3/lib/python3.6/site-packages/h5py/__init__.py:34: FutureWarning: Conversion of the second argument of issubdtype from `float` to `np.floating` is deprecated. In future, it will be treated as `np.float64 == np.dtype(float).type`.\n",
      "  from ._conv import register_converters as _register_converters\n",
      "Using TensorFlow backend.\n"
     ]
    }
   ],
   "source": [
    "import matplotlib.pyplot as plt\n",
    "import numpy as np\n",
    "from mp1 import *\n",
    "import np_utils\n",
    "from keras import models\n",
    "from keras.utils import np_utils\n",
    "from keras.models import Sequential, Model\n",
    "from keras.layers import Reshape, Permute, Activation, BatchNormalization, Dropout , Flatten, MaxPooling2D, Input, Embedding, Dropout, Bidirectional, GRU, TimeDistributed, Dense,UpSampling2D, Conv2D\n",
    "from sklearn.model_selection import train_test_split\n",
    "from keras.callbacks import EarlyStopping, ModelCheckpoint\n",
    "from keras.optimizers import SGD,Adam"
   ]
  },
  {
   "cell_type": "markdown",
   "metadata": {},
   "source": [
    "We create the datasets"
   ]
  },
  {
   "cell_type": "code",
   "execution_count": 2,
   "metadata": {},
   "outputs": [
    {
     "name": "stdout",
     "output_type": "stream",
     "text": [
      "Creating data:\n",
      "0\n",
      "10\n",
      "20\n",
      "30\n",
      "40\n",
      "50\n",
      "60\n",
      "70\n",
      "80\n",
      "90\n",
      "100\n",
      "110\n",
      "120\n",
      "130\n",
      "140\n",
      "150\n",
      "160\n",
      "170\n",
      "180\n",
      "190\n",
      "200\n",
      "210\n",
      "220\n",
      "230\n",
      "240\n",
      "250\n",
      "260\n",
      "270\n",
      "280\n",
      "290\n"
     ]
    }
   ],
   "source": [
    "[X_train, Y_train] = generate_dataset_classification(300, 20)\n",
    "Y_train = np_utils.to_categorical(Y_train, 3)"
   ]
  },
  {
   "cell_type": "markdown",
   "metadata": {},
   "source": [
    "### SGB Optimizer"
   ]
  },
  {
   "cell_type": "code",
   "execution_count": 3,
   "metadata": {},
   "outputs": [
    {
     "name": "stdout",
     "output_type": "stream",
     "text": [
      "_________________________________________________________________\n",
      "Layer (type)                 Output Shape              Param #   \n",
      "=================================================================\n",
      "dense_1 (Dense)              (None, 20)                103700    \n",
      "_________________________________________________________________\n",
      "dense_2 (Dense)              (None, 3)                 63        \n",
      "=================================================================\n",
      "Total params: 103,763\n",
      "Trainable params: 103,763\n",
      "Non-trainable params: 0\n",
      "_________________________________________________________________\n"
     ]
    }
   ],
   "source": [
    "model = Sequential()\n",
    "\n",
    "nb_neurons = 20\n",
    "\n",
    "model = Sequential([\n",
    "  Dense(nb_neurons, input_shape=(5184,),activation='relu'),\n",
    "  Dense(3,activation='softmax')])\n",
    "\n",
    "model.summary()"
   ]
  },
  {
   "cell_type": "code",
   "execution_count": 4,
   "metadata": {},
   "outputs": [
    {
     "name": "stdout",
     "output_type": "stream",
     "text": [
      "Epoch 1/50\n",
      "300/300 [==============================] - 0s 458us/step - loss: 1.8474 - acc: 0.3500\n",
      "Epoch 2/50\n",
      "300/300 [==============================] - 0s 73us/step - loss: 1.0770 - acc: 0.3800\n",
      "Epoch 3/50\n",
      "300/300 [==============================] - 0s 70us/step - loss: 1.0766 - acc: 0.3533\n",
      "Epoch 4/50\n",
      "300/300 [==============================] - 0s 75us/step - loss: 1.0399 - acc: 0.4133\n",
      "Epoch 5/50\n",
      "300/300 [==============================] - 0s 69us/step - loss: 1.0162 - acc: 0.4600\n",
      "Epoch 6/50\n",
      "300/300 [==============================] - 0s 66us/step - loss: 0.9981 - acc: 0.4667\n",
      "Epoch 7/50\n",
      "300/300 [==============================] - 0s 73us/step - loss: 0.9552 - acc: 0.4800\n",
      "Epoch 8/50\n",
      "300/300 [==============================] - 0s 66us/step - loss: 0.9377 - acc: 0.5467\n",
      "Epoch 9/50\n",
      "300/300 [==============================] - 0s 69us/step - loss: 0.9117 - acc: 0.5567\n",
      "Epoch 10/50\n",
      "300/300 [==============================] - 0s 72us/step - loss: 0.8810 - acc: 0.5667\n",
      "Epoch 11/50\n",
      "300/300 [==============================] - 0s 66us/step - loss: 0.8452 - acc: 0.6000\n",
      "Epoch 12/50\n",
      "300/300 [==============================] - 0s 69us/step - loss: 0.8135 - acc: 0.6100\n",
      "Epoch 13/50\n",
      "300/300 [==============================] - 0s 74us/step - loss: 0.8150 - acc: 0.6067\n",
      "Epoch 14/50\n",
      "300/300 [==============================] - 0s 73us/step - loss: 0.7807 - acc: 0.6367\n",
      "Epoch 15/50\n",
      "300/300 [==============================] - 0s 77us/step - loss: 0.7911 - acc: 0.6233\n",
      "Epoch 16/50\n",
      "300/300 [==============================] - 0s 67us/step - loss: 0.7547 - acc: 0.6500\n",
      "Epoch 17/50\n",
      "300/300 [==============================] - 0s 74us/step - loss: 0.7423 - acc: 0.6433\n",
      "Epoch 18/50\n",
      "300/300 [==============================] - 0s 68us/step - loss: 0.7360 - acc: 0.6500\n",
      "Epoch 19/50\n",
      "300/300 [==============================] - 0s 67us/step - loss: 0.7569 - acc: 0.6467\n",
      "Epoch 20/50\n",
      "300/300 [==============================] - 0s 74us/step - loss: 0.7057 - acc: 0.6600\n",
      "Epoch 21/50\n",
      "300/300 [==============================] - 0s 74us/step - loss: 0.7060 - acc: 0.6667\n",
      "Epoch 22/50\n",
      "300/300 [==============================] - 0s 97us/step - loss: 0.7219 - acc: 0.6300\n",
      "Epoch 23/50\n",
      "300/300 [==============================] - 0s 67us/step - loss: 0.6989 - acc: 0.6667\n",
      "Epoch 24/50\n",
      "300/300 [==============================] - 0s 76us/step - loss: 0.6900 - acc: 0.6600\n",
      "Epoch 25/50\n",
      "300/300 [==============================] - 0s 73us/step - loss: 0.6734 - acc: 0.6667\n",
      "Epoch 26/50\n",
      "300/300 [==============================] - 0s 70us/step - loss: 0.6698 - acc: 0.6700\n",
      "Epoch 27/50\n",
      "300/300 [==============================] - 0s 75us/step - loss: 0.6914 - acc: 0.6633\n",
      "Epoch 28/50\n",
      "300/300 [==============================] - 0s 74us/step - loss: 0.6559 - acc: 0.6833\n",
      "Epoch 29/50\n",
      "300/300 [==============================] - 0s 80us/step - loss: 0.6525 - acc: 0.6767\n",
      "Epoch 30/50\n",
      "300/300 [==============================] - 0s 75us/step - loss: 0.6479 - acc: 0.6833\n",
      "Epoch 31/50\n",
      "300/300 [==============================] - 0s 94us/step - loss: 0.6414 - acc: 0.6733\n",
      "Epoch 32/50\n",
      "300/300 [==============================] - 0s 85us/step - loss: 0.6395 - acc: 0.6767\n",
      "Epoch 33/50\n",
      "300/300 [==============================] - 0s 70us/step - loss: 0.6374 - acc: 0.6767\n",
      "Epoch 34/50\n",
      "300/300 [==============================] - 0s 67us/step - loss: 0.6302 - acc: 0.6800\n",
      "Epoch 35/50\n",
      "300/300 [==============================] - 0s 74us/step - loss: 0.6254 - acc: 0.6867\n",
      "Epoch 36/50\n",
      "300/300 [==============================] - 0s 76us/step - loss: 0.6252 - acc: 0.6833\n",
      "Epoch 37/50\n",
      "300/300 [==============================] - 0s 82us/step - loss: 0.6197 - acc: 0.6833\n",
      "Epoch 38/50\n",
      "300/300 [==============================] - 0s 77us/step - loss: 0.6163 - acc: 0.6900\n",
      "Epoch 39/50\n",
      "300/300 [==============================] - 0s 76us/step - loss: 0.6222 - acc: 0.6833\n",
      "Epoch 40/50\n",
      "300/300 [==============================] - 0s 74us/step - loss: 0.6121 - acc: 0.6867\n",
      "Epoch 41/50\n",
      "300/300 [==============================] - 0s 75us/step - loss: 0.6065 - acc: 0.6833\n",
      "Epoch 42/50\n",
      "300/300 [==============================] - 0s 67us/step - loss: 0.6033 - acc: 0.6900\n",
      "Epoch 43/50\n",
      "300/300 [==============================] - 0s 107us/step - loss: 0.6013 - acc: 0.6900\n",
      "Epoch 44/50\n",
      "300/300 [==============================] - 0s 60us/step - loss: 0.6009 - acc: 0.6833\n",
      "Epoch 45/50\n",
      "300/300 [==============================] - 0s 72us/step - loss: 0.5970 - acc: 0.6900\n",
      "Epoch 46/50\n",
      "300/300 [==============================] - 0s 68us/step - loss: 0.5951 - acc: 0.6867\n",
      "Epoch 47/50\n",
      "300/300 [==============================] - 0s 67us/step - loss: 0.5940 - acc: 0.6900\n",
      "Epoch 48/50\n",
      "300/300 [==============================] - 0s 75us/step - loss: 0.5899 - acc: 0.6900\n",
      "Epoch 49/50\n",
      "300/300 [==============================] - 0s 67us/step - loss: 0.5882 - acc: 0.6900\n",
      "Epoch 50/50\n",
      "300/300 [==============================] - 0s 69us/step - loss: 0.5856 - acc: 0.6900\n"
     ]
    },
    {
     "data": {
      "text/plain": [
       "<keras.callbacks.History at 0x123019dd8>"
      ]
     },
     "execution_count": 4,
     "metadata": {},
     "output_type": "execute_result"
    }
   ],
   "source": [
    "model.compile(loss='categorical_crossentropy', optimizer='sgd',metrics=['acc'])\n",
    "model.fit(X_train, Y_train, epochs=50, batch_size=32)"
   ]
  },
  {
   "cell_type": "code",
   "execution_count": 5,
   "metadata": {},
   "outputs": [
    {
     "name": "stdout",
     "output_type": "stream",
     "text": [
      "bad prediction\n"
     ]
    }
   ],
   "source": [
    "X_test = generate_a_rectangle()\n",
    "X_test=np.reshape(X_test,(1,-1))\n",
    "res = model.predict(X_test)\n",
    "a = np.argmax(res)\n",
    "if (a==0):\n",
    "    print('correct prediction')\n",
    "else :\n",
    "    print('bad prediction')"
   ]
  },
  {
   "cell_type": "markdown",
   "metadata": {},
   "source": [
    "The network converges. We obtain descent results."
   ]
  },
  {
   "cell_type": "markdown",
   "metadata": {},
   "source": [
    "### Adam Optimizer"
   ]
  },
  {
   "cell_type": "code",
   "execution_count": 6,
   "metadata": {},
   "outputs": [
    {
     "name": "stdout",
     "output_type": "stream",
     "text": [
      "_________________________________________________________________\n",
      "Layer (type)                 Output Shape              Param #   \n",
      "=================================================================\n",
      "dense_3 (Dense)              (None, 20)                103700    \n",
      "_________________________________________________________________\n",
      "dense_4 (Dense)              (None, 3)                 63        \n",
      "=================================================================\n",
      "Total params: 103,763\n",
      "Trainable params: 103,763\n",
      "Non-trainable params: 0\n",
      "_________________________________________________________________\n"
     ]
    }
   ],
   "source": [
    "model = Sequential()\n",
    "\n",
    "nb_neurons = 20\n",
    "\n",
    "model = Sequential([\n",
    "  Dense(nb_neurons, input_shape=(5184,),activation='relu'),\n",
    "  Dense(3,activation='softmax')])\n",
    "\n",
    "model.summary()"
   ]
  },
  {
   "cell_type": "code",
   "execution_count": 7,
   "metadata": {
    "scrolled": true
   },
   "outputs": [
    {
     "name": "stdout",
     "output_type": "stream",
     "text": [
      "Epoch 1/30\n",
      "300/300 [==============================] - 0s 650us/step - loss: 1.3432 - acc: 0.3967\n",
      "Epoch 2/30\n",
      "300/300 [==============================] - 0s 100us/step - loss: 0.7424 - acc: 0.6767\n",
      "Epoch 3/30\n",
      "300/300 [==============================] - 0s 72us/step - loss: 0.5539 - acc: 0.8000\n",
      "Epoch 4/30\n",
      "300/300 [==============================] - 0s 85us/step - loss: 0.4748 - acc: 0.8100\n",
      "Epoch 5/30\n",
      "300/300 [==============================] - 0s 78us/step - loss: 0.4230 - acc: 0.8433\n",
      "Epoch 6/30\n",
      "300/300 [==============================] - 0s 82us/step - loss: 0.3725 - acc: 0.8267\n",
      "Epoch 7/30\n",
      "300/300 [==============================] - 0s 91us/step - loss: 0.3077 - acc: 0.9200\n",
      "Epoch 8/30\n",
      "300/300 [==============================] - 0s 79us/step - loss: 0.2578 - acc: 0.9333\n",
      "Epoch 9/30\n",
      "300/300 [==============================] - 0s 86us/step - loss: 0.2302 - acc: 0.9500\n",
      "Epoch 10/30\n",
      "300/300 [==============================] - 0s 72us/step - loss: 0.2279 - acc: 0.9467\n",
      "Epoch 11/30\n",
      "300/300 [==============================] - 0s 88us/step - loss: 0.2112 - acc: 0.9300\n",
      "Epoch 12/30\n",
      "300/300 [==============================] - 0s 91us/step - loss: 0.1639 - acc: 0.9833\n",
      "Epoch 13/30\n",
      "300/300 [==============================] - 0s 79us/step - loss: 0.1452 - acc: 0.9967\n",
      "Epoch 14/30\n",
      "300/300 [==============================] - 0s 86us/step - loss: 0.1341 - acc: 0.9967\n",
      "Epoch 15/30\n",
      "300/300 [==============================] - 0s 81us/step - loss: 0.1311 - acc: 0.9967\n",
      "Epoch 16/30\n",
      "300/300 [==============================] - 0s 88us/step - loss: 0.1196 - acc: 0.9900\n",
      "Epoch 17/30\n",
      "300/300 [==============================] - 0s 79us/step - loss: 0.1100 - acc: 0.9967\n",
      "Epoch 18/30\n",
      "300/300 [==============================] - 0s 85us/step - loss: 0.0989 - acc: 1.0000\n",
      "Epoch 19/30\n",
      "300/300 [==============================] - 0s 87us/step - loss: 0.0988 - acc: 1.0000\n",
      "Epoch 20/30\n",
      "300/300 [==============================] - 0s 73us/step - loss: 0.0911 - acc: 0.9933\n",
      "Epoch 21/30\n",
      "300/300 [==============================] - 0s 86us/step - loss: 0.0793 - acc: 1.0000\n",
      "Epoch 22/30\n",
      "300/300 [==============================] - 0s 73us/step - loss: 0.0757 - acc: 1.0000\n",
      "Epoch 23/30\n",
      "300/300 [==============================] - 0s 94us/step - loss: 0.0770 - acc: 1.0000\n",
      "Epoch 24/30\n",
      "300/300 [==============================] - 0s 83us/step - loss: 0.0653 - acc: 1.0000\n",
      "Epoch 25/30\n",
      "300/300 [==============================] - 0s 80us/step - loss: 0.0627 - acc: 1.0000\n",
      "Epoch 26/30\n",
      "300/300 [==============================] - 0s 92us/step - loss: 0.0662 - acc: 1.0000\n",
      "Epoch 27/30\n",
      "300/300 [==============================] - 0s 72us/step - loss: 0.0776 - acc: 0.9967\n",
      "Epoch 28/30\n",
      "300/300 [==============================] - 0s 84us/step - loss: 0.0625 - acc: 0.9900\n",
      "Epoch 29/30\n",
      "300/300 [==============================] - 0s 77us/step - loss: 0.0646 - acc: 0.9967\n",
      "Epoch 30/30\n",
      "300/300 [==============================] - 0s 85us/step - loss: 0.0490 - acc: 1.0000\n"
     ]
    },
    {
     "data": {
      "text/plain": [
       "<keras.callbacks.History at 0x122d018d0>"
      ]
     },
     "execution_count": 7,
     "metadata": {},
     "output_type": "execute_result"
    }
   ],
   "source": [
    "model.compile(loss='categorical_crossentropy', optimizer='adam',metrics=['acc'])\n",
    "model.fit(X_train, Y_train, epochs=30, batch_size=32)"
   ]
  },
  {
   "cell_type": "code",
   "execution_count": 8,
   "metadata": {},
   "outputs": [
    {
     "name": "stdout",
     "output_type": "stream",
     "text": [
      "correct prediction\n"
     ]
    }
   ],
   "source": [
    "X_test = generate_a_rectangle()\n",
    "X_test=np.reshape(X_test,(1,-1))\n",
    "res = model.predict(X_test)\n",
    "a = np.argmax(res)\n",
    "if (a==0):\n",
    "    print('correct prediction')\n",
    "else :\n",
    "    print('bad prediction')"
   ]
  },
  {
   "cell_type": "markdown",
   "metadata": {},
   "source": [
    "With the adam optimization the convergence is faster and more precise. The finial accuracy is 1 on the training set !"
   ]
  },
  {
   "cell_type": "markdown",
   "metadata": {},
   "source": [
    "### Visualization of the Solution"
   ]
  },
  {
   "cell_type": "markdown",
   "metadata": {},
   "source": [
    "We observe the 20 neurons of the previous network"
   ]
  },
  {
   "cell_type": "code",
   "execution_count": 10,
   "metadata": {},
   "outputs": [
    {
     "data": {
      "image/png": "[encoded data removed]",
      "text/plain": [
       "<Figure size 1440x288 with 20 Axes>"
      ]
     },
     "metadata": {},
     "output_type": "display_data"
    }
   ],
   "source": [
    "weights = model.get_weights()\n",
    "n=20\n",
    "plt.figure(figsize=(20, 4))\n",
    "for i in range(20):\n",
    "    ax = plt.subplot(1, n, i+1)\n",
    "    x = np.reshape(weights[0][:,i],(72,72))\n",
    "    plt.imshow(x,cmap='gray')\n",
    "    ax.get_xaxis().set_visible(False)\n",
    "    ax.get_yaxis().set_visible(False)\n",
    "plt.show()"
   ]
  },
  {
   "cell_type": "markdown",
   "metadata": {},
   "source": [
    "We observe that only 3 neurons seem useful for classification. The other neurons encode noise."
   ]
  },
  {
   "cell_type": "code",
   "execution_count": 11,
   "metadata": {
    "scrolled": true
   },
   "outputs": [
    {
     "data": {
      "text/plain": [
       "17"
      ]
     },
     "execution_count": 11,
     "metadata": {},
     "output_type": "execute_result"
    }
   ],
   "source": [
    "np.argmax(weights[2][:,0])"
   ]
  },
  {
   "cell_type": "markdown",
   "metadata": {},
   "source": [
    "The most important neuron to predict if a shape is a rectangle is the 12th of the previous display."
   ]
  },
  {
   "cell_type": "code",
   "execution_count": 12,
   "metadata": {},
   "outputs": [
    {
     "name": "stdout",
     "output_type": "stream",
     "text": [
      "_________________________________________________________________\n",
      "Layer (type)                 Output Shape              Param #   \n",
      "=================================================================\n",
      "dense_5 (Dense)              (None, 5)                 25925     \n",
      "_________________________________________________________________\n",
      "dense_6 (Dense)              (None, 3)                 18        \n",
      "=================================================================\n",
      "Total params: 25,943\n",
      "Trainable params: 25,943\n",
      "Non-trainable params: 0\n",
      "_________________________________________________________________\n",
      "Epoch 1/30\n",
      "300/300 [==============================] - 0s 788us/step - loss: 1.6085 - acc: 0.3633\n",
      "Epoch 2/30\n",
      "300/300 [==============================] - 0s 112us/step - loss: 1.0988 - acc: 0.3100\n",
      "Epoch 3/30\n",
      "300/300 [==============================] - 0s 110us/step - loss: 1.0988 - acc: 0.3100\n",
      "Epoch 4/30\n",
      "300/300 [==============================] - 0s 107us/step - loss: 1.0987 - acc: 0.3500\n",
      "Epoch 5/30\n",
      "300/300 [==============================] - 0s 108us/step - loss: 1.0986 - acc: 0.3500\n",
      "Epoch 6/30\n",
      "300/300 [==============================] - 0s 103us/step - loss: 1.0984 - acc: 0.3500\n",
      "Epoch 7/30\n",
      "300/300 [==============================] - 0s 104us/step - loss: 1.0984 - acc: 0.3500\n",
      "Epoch 8/30\n",
      "300/300 [==============================] - 0s 103us/step - loss: 1.0983 - acc: 0.3500\n",
      "Epoch 9/30\n",
      "300/300 [==============================] - 0s 100us/step - loss: 1.0982 - acc: 0.3500\n",
      "Epoch 10/30\n",
      "300/300 [==============================] - 0s 94us/step - loss: 1.0981 - acc: 0.3500\n",
      "Epoch 11/30\n",
      "300/300 [==============================] - 0s 94us/step - loss: 1.0980 - acc: 0.3500\n",
      "Epoch 12/30\n",
      "300/300 [==============================] - 0s 104us/step - loss: 1.0980 - acc: 0.3500\n",
      "Epoch 13/30\n",
      "300/300 [==============================] - 0s 101us/step - loss: 1.0979 - acc: 0.3500\n",
      "Epoch 14/30\n",
      "300/300 [==============================] - 0s 95us/step - loss: 1.0979 - acc: 0.3500\n",
      "Epoch 15/30\n",
      "300/300 [==============================] - 0s 98us/step - loss: 1.0978 - acc: 0.3500\n",
      "Epoch 16/30\n",
      "300/300 [==============================] - 0s 100us/step - loss: 1.0978 - acc: 0.3500\n",
      "Epoch 17/30\n",
      "300/300 [==============================] - 0s 108us/step - loss: 1.0977 - acc: 0.3500\n",
      "Epoch 18/30\n",
      "300/300 [==============================] - 0s 107us/step - loss: 1.0977 - acc: 0.3500\n",
      "Epoch 19/30\n",
      "300/300 [==============================] - 0s 100us/step - loss: 1.0977 - acc: 0.3500\n",
      "Epoch 20/30\n",
      "300/300 [==============================] - 0s 105us/step - loss: 1.0976 - acc: 0.3500\n",
      "Epoch 21/30\n",
      "300/300 [==============================] - 0s 107us/step - loss: 1.0977 - acc: 0.3500\n",
      "Epoch 22/30\n",
      "300/300 [==============================] - 0s 101us/step - loss: 1.0976 - acc: 0.3500\n",
      "Epoch 23/30\n",
      "300/300 [==============================] - 0s 110us/step - loss: 1.0976 - acc: 0.3500\n",
      "Epoch 24/30\n",
      "300/300 [==============================] - 0s 111us/step - loss: 1.0975 - acc: 0.3500\n",
      "Epoch 25/30\n",
      "300/300 [==============================] - 0s 121us/step - loss: 1.0976 - acc: 0.3500\n",
      "Epoch 26/30\n",
      "300/300 [==============================] - 0s 110us/step - loss: 1.0975 - acc: 0.3500\n",
      "Epoch 27/30\n",
      "300/300 [==============================] - 0s 115us/step - loss: 1.0975 - acc: 0.3500\n",
      "Epoch 28/30\n",
      "300/300 [==============================] - 0s 113us/step - loss: 1.0975 - acc: 0.3500\n",
      "Epoch 29/30\n",
      "300/300 [==============================] - 0s 110us/step - loss: 1.0975 - acc: 0.3500\n",
      "Epoch 30/30\n",
      "300/300 [==============================] - 0s 116us/step - loss: 1.0975 - acc: 0.3500\n"
     ]
    },
    {
     "data": {
      "text/plain": [
       "<keras.callbacks.History at 0x124285438>"
      ]
     },
     "execution_count": 12,
     "metadata": {},
     "output_type": "execute_result"
    }
   ],
   "source": [
    "model = Sequential()\n",
    "\n",
    "nb_neurons = 5\n",
    "\n",
    "model = Sequential([\n",
    "  Dense(nb_neurons, input_shape=(5184,),activation='relu'),\n",
    "  Dense(3,activation='softmax')])\n",
    "\n",
    "model.summary()\n",
    "\n",
    "model.compile(loss='categorical_crossentropy', optimizer='adam',metrics=['acc'])\n",
    "model.fit(X_train, Y_train, epochs=30, batch_size=16)"
   ]
  },
  {
   "cell_type": "markdown",
   "metadata": {},
   "source": [
    "## A More Difficult Classification Problem"
   ]
  },
  {
   "cell_type": "code",
   "execution_count": 13,
   "metadata": {
    "scrolled": true
   },
   "outputs": [
    {
     "name": "stdout",
     "output_type": "stream",
     "text": [
      "Creating data:\n",
      "0\n",
      "10\n",
      "20\n",
      "30\n",
      "40\n",
      "50\n",
      "60\n",
      "70\n",
      "80\n",
      "90\n",
      "100\n",
      "110\n",
      "120\n",
      "130\n",
      "140\n",
      "150\n",
      "160\n",
      "170\n",
      "180\n",
      "190\n",
      "200\n",
      "210\n",
      "220\n",
      "230\n",
      "240\n",
      "250\n",
      "260\n",
      "270\n",
      "280\n",
      "290\n"
     ]
    }
   ],
   "source": [
    "[X_train, Y_train] = generate_dataset_classification(300, 20, True)\n",
    "X_train= np.reshape(X_train,(X_train.shape[0],72, 72, 1))\n",
    "Y_train = np_utils.to_categorical(Y_train, 3)"
   ]
  },
  {
   "cell_type": "markdown",
   "metadata": {},
   "source": [
    "We create the CNN network with this very simple architecture : "
   ]
  },
  {
   "cell_type": "code",
   "execution_count": 14,
   "metadata": {
    "scrolled": false
   },
   "outputs": [
    {
     "name": "stdout",
     "output_type": "stream",
     "text": [
      "_________________________________________________________________\n",
      "Layer (type)                 Output Shape              Param #   \n",
      "=================================================================\n",
      "conv2d_1 (Conv2D)            (None, 68, 68, 16)        416       \n",
      "_________________________________________________________________\n",
      "max_pooling2d_1 (MaxPooling2 (None, 34, 34, 16)        0         \n",
      "_________________________________________________________________\n",
      "flatten_1 (Flatten)          (None, 18496)             0         \n",
      "_________________________________________________________________\n",
      "dense_7 (Dense)              (None, 3)                 55491     \n",
      "=================================================================\n",
      "Total params: 55,907\n",
      "Trainable params: 55,907\n",
      "Non-trainable params: 0\n",
      "_________________________________________________________________\n"
     ]
    }
   ],
   "source": [
    "model = Sequential()\n",
    "\n",
    "model.add(Conv2D(16, (5, 5), activation='relu',\n",
    "          input_shape=(72, 72, 1)))\n",
    "\n",
    "model.add(MaxPooling2D(pool_size=(2, 2))) \n",
    "\n",
    "model.add(Flatten()) \n",
    "\n",
    "model.add(Dense(3, activation='softmax')) \n",
    "\n",
    "model.summary()"
   ]
  },
  {
   "cell_type": "markdown",
   "metadata": {},
   "source": [
    "We continue with the Adam optimizer"
   ]
  },
  {
   "cell_type": "code",
   "execution_count": 15,
   "metadata": {
    "scrolled": true
   },
   "outputs": [
    {
     "name": "stdout",
     "output_type": "stream",
     "text": [
      "Epoch 1/32\n",
      "300/300 [==============================] - 1s 3ms/step - loss: 2.1952 - acc: 0.3200\n",
      "Epoch 2/32\n",
      "300/300 [==============================] - 1s 2ms/step - loss: 1.1863 - acc: 0.3267\n",
      "Epoch 3/32\n",
      "300/300 [==============================] - 1s 2ms/step - loss: 0.9516 - acc: 0.5400\n",
      "Epoch 4/32\n",
      "300/300 [==============================] - 1s 2ms/step - loss: 0.8573 - acc: 0.7367\n",
      "Epoch 5/32\n",
      "300/300 [==============================] - 1s 2ms/step - loss: 0.7761 - acc: 0.8267\n",
      "Epoch 6/32\n",
      "300/300 [==============================] - 1s 2ms/step - loss: 0.7064 - acc: 0.8067\n",
      "Epoch 7/32\n",
      "300/300 [==============================] - 1s 2ms/step - loss: 0.6582 - acc: 0.7967\n",
      "Epoch 8/32\n",
      "300/300 [==============================] - 1s 2ms/step - loss: 0.6063 - acc: 0.8400\n",
      "Epoch 9/32\n",
      "300/300 [==============================] - 1s 2ms/step - loss: 0.5593 - acc: 0.8367\n",
      "Epoch 10/32\n",
      "300/300 [==============================] - 1s 2ms/step - loss: 0.5182 - acc: 0.8433\n",
      "Epoch 11/32\n",
      "300/300 [==============================] - 1s 2ms/step - loss: 0.4821 - acc: 0.8500\n",
      "Epoch 12/32\n",
      "300/300 [==============================] - 1s 2ms/step - loss: 0.4501 - acc: 0.8833\n",
      "Epoch 13/32\n",
      "300/300 [==============================] - 1s 2ms/step - loss: 0.4711 - acc: 0.8600\n",
      "Epoch 14/32\n",
      "300/300 [==============================] - 1s 2ms/step - loss: 0.4340 - acc: 0.8867\n",
      "Epoch 15/32\n",
      "300/300 [==============================] - 1s 2ms/step - loss: 0.4175 - acc: 0.9133\n",
      "Epoch 16/32\n",
      "300/300 [==============================] - 1s 2ms/step - loss: 0.3900 - acc: 0.9267\n",
      "Epoch 17/32\n",
      "300/300 [==============================] - 1s 2ms/step - loss: 0.3692 - acc: 0.9133\n",
      "Epoch 18/32\n",
      "300/300 [==============================] - 1s 2ms/step - loss: 0.3396 - acc: 0.9267\n",
      "Epoch 19/32\n",
      "300/300 [==============================] - 1s 2ms/step - loss: 0.3236 - acc: 0.9267\n",
      "Epoch 20/32\n",
      "300/300 [==============================] - 1s 2ms/step - loss: 0.3034 - acc: 0.9300\n",
      "Epoch 21/32\n",
      "300/300 [==============================] - 1s 2ms/step - loss: 0.3037 - acc: 0.9067\n",
      "Epoch 22/32\n",
      "300/300 [==============================] - 1s 2ms/step - loss: 0.2847 - acc: 0.9200\n",
      "Epoch 23/32\n",
      "300/300 [==============================] - 1s 2ms/step - loss: 0.2613 - acc: 0.9500\n",
      "Epoch 24/32\n",
      "300/300 [==============================] - 1s 2ms/step - loss: 0.2573 - acc: 0.9500\n",
      "Epoch 25/32\n",
      "300/300 [==============================] - 1s 2ms/step - loss: 0.2422 - acc: 0.9700\n",
      "Epoch 26/32\n",
      "300/300 [==============================] - 1s 2ms/step - loss: 0.2308 - acc: 0.9567\n",
      "Epoch 27/32\n",
      "300/300 [==============================] - 1s 2ms/step - loss: 0.2084 - acc: 0.9767\n",
      "Epoch 28/32\n",
      "300/300 [==============================] - 1s 2ms/step - loss: 0.2115 - acc: 0.9667\n",
      "Epoch 29/32\n",
      "300/300 [==============================] - 1s 2ms/step - loss: 0.2007 - acc: 0.9667\n",
      "Epoch 30/32\n",
      "300/300 [==============================] - 1s 2ms/step - loss: 0.1866 - acc: 0.9867\n",
      "Epoch 31/32\n",
      "300/300 [==============================] - 1s 2ms/step - loss: 0.1715 - acc: 0.9867\n",
      "Epoch 32/32\n",
      "300/300 [==============================] - 1s 2ms/step - loss: 0.1620 - acc: 0.9933\n"
     ]
    },
    {
     "data": {
      "text/plain": [
       "<keras.callbacks.History at 0x122d017f0>"
      ]
     },
     "execution_count": 15,
     "metadata": {},
     "output_type": "execute_result"
    }
   ],
   "source": [
    "model.compile(loss='categorical_crossentropy', optimizer='adam',metrics=['accuracy'])\n",
    "model.fit(X_train,Y_train,batch_size=34, epochs=32, verbose=1)"
   ]
  },
  {
   "cell_type": "code",
   "execution_count": 16,
   "metadata": {},
   "outputs": [
    {
     "name": "stdout",
     "output_type": "stream",
     "text": [
      "Creating data:\n",
      "0\n",
      "10\n",
      "20\n",
      "30\n",
      "40\n",
      "50\n",
      "60\n",
      "70\n",
      "80\n",
      "90\n",
      "100\n",
      "110\n",
      "120\n",
      "130\n",
      "140\n",
      "150\n",
      "160\n",
      "170\n",
      "180\n",
      "190\n",
      "200\n",
      "210\n",
      "220\n",
      "230\n",
      "240\n",
      "250\n",
      "260\n",
      "270\n",
      "280\n",
      "290\n"
     ]
    }
   ],
   "source": [
    "[X_test, Y_test] = generate_test_set_classification()"
   ]
  },
  {
   "cell_type": "code",
   "execution_count": 17,
   "metadata": {
    "scrolled": true
   },
   "outputs": [
    {
     "name": "stdout",
     "output_type": "stream",
     "text": [
      "300/300 [==============================] - 0s 1ms/step\n",
      "accuracy on the test set =  0.7399999992052714\n",
      "the loss value on the test set =  0.6367584931850433\n"
     ]
    }
   ],
   "source": [
    "X_test= np.reshape(X_test,(X_test.shape[0],72,72,1))\n",
    "val = model.evaluate(X_test, Y_test)\n",
    "print('accuracy on the test set = ', val[1])\n",
    "print('the loss value on the test set = ', val[0])"
   ]
  },
  {
   "cell_type": "markdown",
   "metadata": {},
   "source": [
    "The accuracy on the test set is pretty low compared to the one on the training set. This might be a clue of overfitting. In order to sove that issue, we increase the number of training samples and we add dropout in the architectecture."
   ]
  },
  {
   "cell_type": "code",
   "execution_count": 18,
   "metadata": {},
   "outputs": [
    {
     "name": "stdout",
     "output_type": "stream",
     "text": [
      "Creating data:\n",
      "0\n",
      "10\n",
      "20\n",
      "30\n",
      "40\n",
      "50\n",
      "60\n",
      "70\n",
      "80\n",
      "90\n",
      "100\n",
      "110\n",
      "120\n",
      "130\n",
      "140\n",
      "150\n",
      "160\n",
      "170\n",
      "180\n",
      "190\n",
      "200\n",
      "210\n",
      "220\n",
      "230\n",
      "240\n",
      "250\n",
      "260\n",
      "270\n",
      "280\n",
      "290\n",
      "300\n",
      "310\n",
      "320\n",
      "330\n",
      "340\n",
      "350\n",
      "360\n",
      "370\n",
      "380\n",
      "390\n",
      "400\n",
      "410\n",
      "420\n",
      "430\n",
      "440\n",
      "450\n",
      "460\n",
      "470\n",
      "480\n",
      "490\n",
      "500\n",
      "510\n",
      "520\n",
      "530\n",
      "540\n",
      "550\n",
      "560\n",
      "570\n",
      "580\n",
      "590\n",
      "600\n",
      "610\n",
      "620\n",
      "630\n",
      "640\n",
      "650\n",
      "660\n",
      "670\n",
      "680\n",
      "690\n",
      "700\n",
      "710\n",
      "720\n",
      "730\n",
      "740\n",
      "750\n",
      "760\n",
      "770\n",
      "780\n",
      "790\n",
      "800\n",
      "810\n",
      "820\n",
      "830\n",
      "840\n",
      "850\n",
      "860\n",
      "870\n",
      "880\n",
      "890\n",
      "900\n",
      "910\n",
      "920\n",
      "930\n",
      "940\n",
      "950\n",
      "960\n",
      "970\n",
      "980\n",
      "990\n"
     ]
    }
   ],
   "source": [
    "[X_train, Y_train] = generate_dataset_classification(1000, 20, True)\n",
    "X_train= np.reshape(X_train,(X_train.shape[0],72, 72, 1))\n",
    "Y_train = np_utils.to_categorical(Y_train, 3)"
   ]
  },
  {
   "cell_type": "code",
   "execution_count": 19,
   "metadata": {},
   "outputs": [
    {
     "name": "stdout",
     "output_type": "stream",
     "text": [
      "_________________________________________________________________\n",
      "Layer (type)                 Output Shape              Param #   \n",
      "=================================================================\n",
      "conv2d_2 (Conv2D)            (None, 68, 68, 16)        416       \n",
      "_________________________________________________________________\n",
      "max_pooling2d_2 (MaxPooling2 (None, 34, 34, 16)        0         \n",
      "_________________________________________________________________\n",
      "flatten_2 (Flatten)          (None, 18496)             0         \n",
      "_________________________________________________________________\n",
      "dropout_1 (Dropout)          (None, 18496)             0         \n",
      "_________________________________________________________________\n",
      "dense_8 (Dense)              (None, 3)                 55491     \n",
      "=================================================================\n",
      "Total params: 55,907\n",
      "Trainable params: 55,907\n",
      "Non-trainable params: 0\n",
      "_________________________________________________________________\n"
     ]
    }
   ],
   "source": [
    "model = Sequential()\n",
    "\n",
    "model.add(Conv2D(16, (5, 5), activation='relu',\n",
    "          input_shape=(72, 72, 1)))\n",
    "\n",
    "model.add(MaxPooling2D(pool_size=(2, 2))) \n",
    "\n",
    "model.add(Flatten()) \n",
    "\n",
    "model.add(Dropout(0.2))\n",
    "\n",
    "model.add(Dense(3, activation='softmax')) \n",
    "\n",
    "model.summary()"
   ]
  },
  {
   "cell_type": "code",
   "execution_count": 20,
   "metadata": {},
   "outputs": [
    {
     "name": "stdout",
     "output_type": "stream",
     "text": [
      "Epoch 1/30\n",
      "1000/1000 [==============================] - 2s 2ms/step - loss: 1.0077 - acc: 0.5380A: 2s - lo\n",
      "Epoch 2/30\n",
      "1000/1000 [==============================] - 2s 2ms/step - loss: 0.7497 - acc: 0.6970\n",
      "Epoch 3/30\n",
      "1000/1000 [==============================] - 2s 2ms/step - loss: 0.6766 - acc: 0.7300\n",
      "Epoch 4/30\n",
      "1000/1000 [==============================] - 2s 2ms/step - loss: 0.5827 - acc: 0.7760\n",
      "Epoch 5/30\n",
      "1000/1000 [==============================] - 2s 2ms/step - loss: 0.5628 - acc: 0.7910\n",
      "Epoch 6/30\n",
      "1000/1000 [==============================] - 2s 2ms/step - loss: 0.5004 - acc: 0.8400\n",
      "Epoch 7/30\n",
      "1000/1000 [==============================] - 2s 2ms/step - loss: 0.4469 - acc: 0.8600\n",
      "Epoch 8/30\n",
      "1000/1000 [==============================] - 2s 2ms/step - loss: 0.4170 - acc: 0.8640\n",
      "Epoch 9/30\n",
      "1000/1000 [==============================] - 2s 2ms/step - loss: 0.3746 - acc: 0.8850\n",
      "Epoch 10/30\n",
      "1000/1000 [==============================] - 2s 2ms/step - loss: 0.3438 - acc: 0.8950\n",
      "Epoch 11/30\n",
      "1000/1000 [==============================] - 2s 2ms/step - loss: 0.3110 - acc: 0.9080\n",
      "Epoch 12/30\n",
      "1000/1000 [==============================] - 2s 2ms/step - loss: 0.3098 - acc: 0.9050\n",
      "Epoch 13/30\n",
      "1000/1000 [==============================] - 2s 2ms/step - loss: 0.2783 - acc: 0.9260\n",
      "Epoch 14/30\n",
      "1000/1000 [==============================] - 2s 2ms/step - loss: 0.2684 - acc: 0.9260\n",
      "Epoch 15/30\n",
      "1000/1000 [==============================] - 2s 2ms/step - loss: 0.2151 - acc: 0.9480\n",
      "Epoch 16/30\n",
      "1000/1000 [==============================] - 2s 2ms/step - loss: 0.2218 - acc: 0.9400\n",
      "Epoch 17/30\n",
      "1000/1000 [==============================] - 2s 2ms/step - loss: 0.2051 - acc: 0.9510\n",
      "Epoch 18/30\n",
      "1000/1000 [==============================] - 2s 2ms/step - loss: 0.1718 - acc: 0.9620\n",
      "Epoch 19/30\n",
      "1000/1000 [==============================] - 2s 2ms/step - loss: 0.1611 - acc: 0.9770\n",
      "Epoch 20/30\n",
      "1000/1000 [==============================] - 2s 2ms/step - loss: 0.1491 - acc: 0.9700\n",
      "Epoch 21/30\n",
      "1000/1000 [==============================] - 2s 2ms/step - loss: 0.1400 - acc: 0.9800\n",
      "Epoch 22/30\n",
      "1000/1000 [==============================] - 2s 2ms/step - loss: 0.1289 - acc: 0.9810\n",
      "Epoch 23/30\n",
      "1000/1000 [==============================] - 2s 2ms/step - loss: 0.1146 - acc: 0.9830\n",
      "Epoch 24/30\n",
      "1000/1000 [==============================] - 2s 2ms/step - loss: 0.1062 - acc: 0.9890\n",
      "Epoch 25/30\n",
      "1000/1000 [==============================] - 2s 2ms/step - loss: 0.1003 - acc: 0.9840\n",
      "Epoch 26/30\n",
      "1000/1000 [==============================] - 2s 2ms/step - loss: 0.0892 - acc: 0.9890\n",
      "Epoch 27/30\n",
      "1000/1000 [==============================] - 2s 2ms/step - loss: 0.0927 - acc: 0.9900\n",
      "Epoch 28/30\n",
      "1000/1000 [==============================] - 2s 2ms/step - loss: 0.0911 - acc: 0.9890\n",
      "Epoch 29/30\n",
      "1000/1000 [==============================] - 2s 2ms/step - loss: 0.0850 - acc: 0.9920\n",
      "Epoch 30/30\n",
      "1000/1000 [==============================] - 2s 2ms/step - loss: 0.0746 - acc: 0.9940\n"
     ]
    },
    {
     "data": {
      "text/plain": [
       "<keras.callbacks.History at 0x1221305c0>"
      ]
     },
     "execution_count": 20,
     "metadata": {},
     "output_type": "execute_result"
    }
   ],
   "source": [
    "model.compile(loss='categorical_crossentropy', optimizer='adam',metrics=['accuracy'])\n",
    "model.fit(X_train,Y_train,batch_size=32, epochs=30, verbose=1)"
   ]
  },
  {
   "cell_type": "code",
   "execution_count": 21,
   "metadata": {},
   "outputs": [
    {
     "name": "stdout",
     "output_type": "stream",
     "text": [
      "300/300 [==============================] - 0s 1ms/step\n",
      "accuracy on the test set =  0.8766666658719381\n"
     ]
    }
   ],
   "source": [
    "X_test= np.reshape(X_test,(X_test.shape[0],72,72,1))\n",
    "val = model.evaluate(X_test, Y_test)\n",
    "print('accuracy on the test set = ', val[1])"
   ]
  },
  {
   "cell_type": "markdown",
   "metadata": {},
   "source": [
    "We significantly improved the accuracy."
   ]
  },
  {
   "cell_type": "code",
   "execution_count": 22,
   "metadata": {},
   "outputs": [
    {
     "name": "stdout",
     "output_type": "stream",
     "text": [
      "the loss value on the test set =  0.3551584812005361\n"
     ]
    }
   ],
   "source": [
    "print('the loss value on the test set = ', val[0])"
   ]
  },
  {
   "cell_type": "markdown",
   "metadata": {},
   "source": [
    "## A Regression Problem"
   ]
  },
  {
   "cell_type": "markdown",
   "metadata": {},
   "source": [
    "We first load the training and testing datasets"
   ]
  },
  {
   "cell_type": "code",
   "execution_count": 23,
   "metadata": {
    "scrolled": true
   },
   "outputs": [
    {
     "name": "stdout",
     "output_type": "stream",
     "text": [
      "Creating data:\n",
      "0\n",
      "10\n",
      "20\n",
      "30\n",
      "40\n",
      "50\n",
      "60\n",
      "70\n",
      "80\n",
      "90\n",
      "100\n",
      "110\n",
      "120\n",
      "130\n",
      "140\n",
      "150\n",
      "160\n",
      "170\n",
      "180\n",
      "190\n",
      "200\n",
      "210\n",
      "220\n",
      "230\n",
      "240\n",
      "250\n",
      "260\n",
      "270\n",
      "280\n",
      "290\n",
      "300\n",
      "310\n",
      "320\n",
      "330\n",
      "340\n",
      "350\n",
      "360\n",
      "370\n",
      "380\n",
      "390\n",
      "400\n",
      "410\n",
      "420\n",
      "430\n",
      "440\n",
      "450\n",
      "460\n",
      "470\n",
      "480\n",
      "490\n",
      "500\n",
      "510\n",
      "520\n",
      "530\n",
      "540\n",
      "550\n",
      "560\n",
      "570\n",
      "580\n",
      "590\n",
      "600\n",
      "610\n",
      "620\n",
      "630\n",
      "640\n",
      "650\n",
      "660\n",
      "670\n",
      "680\n",
      "690\n",
      "700\n",
      "710\n",
      "720\n",
      "730\n",
      "740\n",
      "750\n",
      "760\n",
      "770\n",
      "780\n",
      "790\n",
      "800\n",
      "810\n",
      "820\n",
      "830\n",
      "840\n",
      "850\n",
      "860\n",
      "870\n",
      "880\n",
      "890\n",
      "900\n",
      "910\n",
      "920\n",
      "930\n",
      "940\n",
      "950\n",
      "960\n",
      "970\n",
      "980\n",
      "990\n",
      "1000\n",
      "1010\n",
      "1020\n",
      "1030\n",
      "1040\n",
      "1050\n",
      "1060\n",
      "1070\n",
      "1080\n",
      "1090\n",
      "1100\n",
      "1110\n",
      "1120\n",
      "1130\n",
      "1140\n",
      "1150\n",
      "1160\n",
      "1170\n",
      "1180\n",
      "1190\n",
      "1200\n",
      "1210\n",
      "1220\n",
      "1230\n",
      "1240\n",
      "1250\n",
      "1260\n",
      "1270\n",
      "1280\n",
      "1290\n",
      "1300\n",
      "1310\n",
      "1320\n",
      "1330\n",
      "1340\n",
      "1350\n",
      "1360\n",
      "1370\n",
      "1380\n",
      "1390\n",
      "1400\n",
      "1410\n",
      "1420\n",
      "1430\n",
      "1440\n",
      "1450\n",
      "1460\n",
      "1470\n",
      "1480\n",
      "1490\n",
      "1500\n",
      "1510\n",
      "1520\n",
      "1530\n",
      "1540\n",
      "1550\n",
      "1560\n",
      "1570\n",
      "1580\n",
      "1590\n",
      "1600\n",
      "1610\n",
      "1620\n",
      "1630\n",
      "1640\n",
      "1650\n",
      "1660\n",
      "1670\n",
      "1680\n",
      "1690\n",
      "1700\n",
      "1710\n",
      "1720\n",
      "1730\n",
      "1740\n",
      "1750\n",
      "1760\n",
      "1770\n",
      "1780\n",
      "1790\n",
      "1800\n",
      "1810\n",
      "1820\n",
      "1830\n",
      "1840\n",
      "1850\n",
      "1860\n",
      "1870\n",
      "1880\n",
      "1890\n",
      "1900\n",
      "1910\n",
      "1920\n",
      "1930\n",
      "1940\n",
      "1950\n",
      "1960\n",
      "1970\n",
      "1980\n",
      "1990\n",
      "2000\n",
      "2010\n",
      "2020\n",
      "2030\n",
      "2040\n",
      "2050\n",
      "2060\n",
      "2070\n",
      "2080\n",
      "2090\n",
      "2100\n",
      "2110\n",
      "2120\n",
      "2130\n",
      "2140\n",
      "2150\n",
      "2160\n",
      "2170\n",
      "2180\n",
      "2190\n",
      "2200\n",
      "2210\n",
      "2220\n",
      "2230\n",
      "2240\n",
      "2250\n",
      "2260\n",
      "2270\n",
      "2280\n",
      "2290\n",
      "2300\n",
      "2310\n",
      "2320\n",
      "2330\n",
      "2340\n",
      "2350\n",
      "2360\n",
      "2370\n",
      "2380\n",
      "2390\n",
      "2400\n",
      "2410\n",
      "2420\n",
      "2430\n",
      "2440\n",
      "2450\n",
      "2460\n",
      "2470\n",
      "2480\n",
      "2490\n",
      "2500\n",
      "2510\n",
      "2520\n",
      "2530\n",
      "2540\n",
      "2550\n",
      "2560\n",
      "2570\n",
      "2580\n",
      "2590\n",
      "2600\n",
      "2610\n",
      "2620\n",
      "2630\n",
      "2640\n",
      "2650\n",
      "2660\n",
      "2670\n",
      "2680\n",
      "2690\n",
      "2700\n",
      "2710\n",
      "2720\n",
      "2730\n",
      "2740\n",
      "2750\n",
      "2760\n",
      "2770\n",
      "2780\n",
      "2790\n",
      "2800\n",
      "2810\n",
      "2820\n",
      "2830\n",
      "2840\n",
      "2850\n",
      "2860\n",
      "2870\n",
      "2880\n",
      "2890\n",
      "2900\n",
      "2910\n",
      "2920\n",
      "2930\n",
      "2940\n",
      "2950\n",
      "2960\n",
      "2970\n",
      "2980\n",
      "2990\n",
      "3000\n",
      "3010\n",
      "3020\n",
      "3030\n",
      "3040\n",
      "3050\n",
      "3060\n",
      "3070\n",
      "3080\n",
      "3090\n",
      "3100\n",
      "3110\n",
      "3120\n",
      "3130\n",
      "3140\n",
      "3150\n",
      "3160\n",
      "3170\n",
      "3180\n",
      "3190\n",
      "3200\n",
      "3210\n",
      "3220\n",
      "3230\n",
      "3240\n",
      "3250\n",
      "3260\n",
      "3270\n",
      "3280\n",
      "3290\n",
      "3300\n",
      "3310\n",
      "3320\n",
      "3330\n",
      "3340\n",
      "3350\n",
      "3360\n",
      "3370\n",
      "3380\n",
      "3390\n",
      "3400\n",
      "3410\n",
      "3420\n",
      "3430\n",
      "3440\n",
      "3450\n",
      "3460\n",
      "3470\n",
      "3480\n",
      "3490\n",
      "3500\n",
      "3510\n",
      "3520\n",
      "3530\n",
      "3540\n",
      "3550\n",
      "3560\n",
      "3570\n",
      "3580\n",
      "3590\n",
      "3600\n",
      "3610\n",
      "3620\n",
      "3630\n",
      "3640\n",
      "3650\n",
      "3660\n",
      "3670\n",
      "3680\n",
      "3690\n",
      "3700\n",
      "3710\n",
      "3720\n",
      "3730\n",
      "3740\n",
      "3750\n",
      "3760\n",
      "3770\n",
      "3780\n",
      "3790\n",
      "3800\n",
      "3810\n",
      "3820\n",
      "3830\n",
      "3840\n",
      "3850\n",
      "3860\n",
      "3870\n",
      "3880\n",
      "3890\n",
      "3900\n",
      "3910\n",
      "3920\n",
      "3930\n",
      "3940\n",
      "3950\n",
      "3960\n",
      "3970\n",
      "3980\n",
      "3990\n",
      "4000\n",
      "4010\n",
      "4020\n",
      "4030\n",
      "4040\n",
      "4050\n",
      "4060\n",
      "4070\n",
      "4080\n",
      "4090\n",
      "4100\n",
      "4110\n",
      "4120\n",
      "4130\n",
      "4140\n",
      "4150\n",
      "4160\n",
      "4170\n",
      "4180\n",
      "4190\n",
      "4200\n",
      "4210\n",
      "4220\n",
      "4230\n",
      "4240\n",
      "4250\n",
      "4260\n",
      "4270\n",
      "4280\n",
      "4290\n",
      "4300\n",
      "4310\n",
      "4320\n",
      "4330\n",
      "4340\n",
      "4350\n",
      "4360\n",
      "4370\n",
      "4380\n",
      "4390\n",
      "4400\n",
      "4410\n",
      "4420\n",
      "4430\n",
      "4440\n",
      "4450\n",
      "4460\n",
      "4470\n",
      "4480\n",
      "4490\n",
      "4500\n",
      "4510\n",
      "4520\n",
      "4530\n",
      "4540\n",
      "4550\n",
      "4560\n",
      "4570\n",
      "4580\n",
      "4590\n",
      "4600\n",
      "4610\n",
      "4620\n",
      "4630\n",
      "4640\n",
      "4650\n",
      "4660\n",
      "4670\n",
      "4680\n",
      "4690\n",
      "4700\n",
      "4710\n",
      "4720\n",
      "4730\n",
      "4740\n",
      "4750\n",
      "4760\n",
      "4770\n",
      "4780\n",
      "4790\n",
      "4800\n",
      "4810\n",
      "4820\n",
      "4830\n",
      "4840\n",
      "4850\n",
      "4860\n",
      "4870\n",
      "4880\n",
      "4890\n",
      "4900\n",
      "4910\n",
      "4920\n",
      "4930\n",
      "4940\n",
      "4950\n",
      "4960\n",
      "4970\n",
      "4980\n",
      "4990\n",
      "5000\n",
      "5010\n",
      "5020\n",
      "5030\n",
      "5040\n",
      "5050\n",
      "5060\n",
      "5070\n",
      "5080\n",
      "5090\n",
      "5100\n",
      "5110\n",
      "5120\n",
      "5130\n",
      "5140\n",
      "5150\n",
      "5160\n",
      "5170\n",
      "5180\n",
      "5190\n",
      "5200\n",
      "5210\n",
      "5220\n",
      "5230\n",
      "5240\n",
      "5250\n",
      "5260\n",
      "5270\n",
      "5280\n",
      "5290\n",
      "5300\n",
      "5310\n",
      "5320\n",
      "5330\n",
      "5340\n",
      "5350\n",
      "5360\n",
      "5370\n",
      "5380\n",
      "5390\n",
      "5400\n",
      "5410\n",
      "5420\n",
      "5430\n",
      "5440\n",
      "5450\n",
      "5460\n",
      "5470\n",
      "5480\n",
      "5490\n",
      "5500\n",
      "5510\n",
      "5520\n",
      "5530\n",
      "5540\n",
      "5550\n",
      "5560\n",
      "5570\n",
      "5580\n",
      "5590\n",
      "5600\n",
      "5610\n",
      "5620\n",
      "5630\n",
      "5640\n",
      "5650\n",
      "5660\n",
      "5670\n",
      "5680\n",
      "5690\n",
      "5700\n",
      "5710\n",
      "5720\n",
      "5730\n",
      "5740\n",
      "5750\n",
      "5760\n",
      "5770\n",
      "5780\n",
      "5790\n",
      "5800\n",
      "5810\n",
      "5820\n",
      "5830\n",
      "5840\n",
      "5850\n",
      "5860\n",
      "5870\n",
      "5880\n",
      "5890\n",
      "5900\n",
      "5910\n",
      "5920\n",
      "5930\n",
      "5940\n",
      "5950\n",
      "5960\n",
      "5970\n",
      "5980\n",
      "5990\n",
      "6000\n",
      "6010\n",
      "6020\n",
      "6030\n",
      "6040\n",
      "6050\n",
      "6060\n",
      "6070\n",
      "6080\n",
      "6090\n",
      "6100\n",
      "6110\n",
      "6120\n",
      "6130\n",
      "6140\n",
      "6150\n",
      "6160\n",
      "6170\n",
      "6180\n",
      "6190\n",
      "6200\n",
      "6210\n",
      "6220\n",
      "6230\n",
      "6240\n",
      "6250\n",
      "6260\n",
      "6270\n",
      "6280\n",
      "6290\n",
      "6300\n",
      "6310\n",
      "6320\n",
      "6330\n",
      "6340\n",
      "6350\n",
      "6360\n",
      "6370\n",
      "6380\n",
      "6390\n",
      "6400\n",
      "6410\n",
      "6420\n",
      "6430\n",
      "6440\n",
      "6450\n",
      "6460\n",
      "6470\n",
      "6480\n",
      "6490\n",
      "6500\n",
      "6510\n",
      "6520\n",
      "6530\n",
      "6540\n",
      "6550\n",
      "6560\n",
      "6570\n",
      "6580\n",
      "6590\n",
      "6600\n",
      "6610\n",
      "6620\n",
      "6630\n",
      "6640\n",
      "6650\n",
      "6660\n",
      "6670\n",
      "6680\n",
      "6690\n",
      "6700\n",
      "6710\n",
      "6720\n",
      "6730\n",
      "6740\n",
      "6750\n",
      "6760\n",
      "6770\n",
      "6780\n",
      "6790\n",
      "6800\n",
      "6810\n",
      "6820\n",
      "6830\n",
      "6840\n",
      "6850\n",
      "6860\n",
      "6870\n",
      "6880\n",
      "6890\n",
      "6900\n",
      "6910\n",
      "6920\n",
      "6930\n",
      "6940\n",
      "6950\n",
      "6960\n",
      "6970\n",
      "6980\n",
      "6990\n",
      "7000\n",
      "7010\n",
      "7020\n",
      "7030\n",
      "7040\n",
      "7050\n",
      "7060\n",
      "7070\n",
      "7080\n",
      "7090\n",
      "7100\n",
      "7110\n",
      "7120\n",
      "7130\n",
      "7140\n",
      "7150\n",
      "7160\n",
      "7170\n",
      "7180\n",
      "7190\n",
      "7200\n",
      "7210\n",
      "7220\n",
      "7230\n",
      "7240\n",
      "7250\n",
      "7260\n",
      "7270\n",
      "7280\n",
      "7290\n",
      "7300\n",
      "7310\n",
      "7320\n",
      "7330\n",
      "7340\n",
      "7350\n",
      "7360\n",
      "7370\n",
      "7380\n",
      "7390\n",
      "7400\n",
      "7410\n",
      "7420\n",
      "7430\n",
      "7440\n",
      "7450\n",
      "7460\n",
      "7470\n",
      "7480\n",
      "7490\n",
      "7500\n",
      "7510\n",
      "7520\n",
      "7530\n",
      "7540\n",
      "7550\n",
      "7560\n",
      "7570\n",
      "7580\n",
      "7590\n",
      "7600\n",
      "7610\n",
      "7620\n",
      "7630\n",
      "7640\n",
      "7650\n",
      "7660\n",
      "7670\n",
      "7680\n",
      "7690\n",
      "7700\n",
      "7710\n",
      "7720\n",
      "7730\n",
      "7740\n",
      "7750\n",
      "7760\n",
      "7770\n",
      "7780\n",
      "7790\n",
      "7800\n",
      "7810\n",
      "7820\n",
      "7830\n",
      "7840\n",
      "7850\n",
      "7860\n",
      "7870\n",
      "7880\n",
      "7890\n",
      "7900\n",
      "7910\n",
      "7920\n",
      "7930\n",
      "7940\n",
      "7950\n",
      "7960\n",
      "7970\n",
      "7980\n",
      "7990\n",
      "8000\n",
      "8010\n",
      "8020\n",
      "8030\n",
      "8040\n",
      "8050\n",
      "8060\n",
      "8070\n",
      "8080\n",
      "8090\n",
      "8100\n",
      "8110\n",
      "8120\n",
      "8130\n",
      "8140\n",
      "8150\n",
      "8160\n",
      "8170\n",
      "8180\n",
      "8190\n",
      "8200\n",
      "8210\n",
      "8220\n",
      "8230\n",
      "8240\n",
      "8250\n",
      "8260\n",
      "8270\n",
      "8280\n",
      "8290\n",
      "8300\n",
      "8310\n",
      "8320\n",
      "8330\n",
      "8340\n",
      "8350\n",
      "8360\n",
      "8370\n",
      "8380\n",
      "8390\n",
      "8400\n",
      "8410\n",
      "8420\n",
      "8430\n",
      "8440\n",
      "8450\n",
      "8460\n",
      "8470\n",
      "8480\n",
      "8490\n",
      "8500\n",
      "8510\n",
      "8520\n",
      "8530\n",
      "8540\n",
      "8550\n",
      "8560\n",
      "8570\n",
      "8580\n",
      "8590\n",
      "8600\n",
      "8610\n",
      "8620\n",
      "8630\n",
      "8640\n",
      "8650\n",
      "8660\n",
      "8670\n",
      "8680\n",
      "8690\n",
      "8700\n",
      "8710\n",
      "8720\n",
      "8730\n",
      "8740\n",
      "8750\n",
      "8760\n",
      "8770\n",
      "8780\n",
      "8790\n",
      "8800\n",
      "8810\n",
      "8820\n",
      "8830\n",
      "8840\n",
      "8850\n",
      "8860\n",
      "8870\n",
      "8880\n",
      "8890\n",
      "8900\n",
      "8910\n",
      "8920\n",
      "8930\n",
      "8940\n",
      "8950\n",
      "8960\n",
      "8970\n",
      "8980\n",
      "8990\n",
      "9000\n",
      "9010\n",
      "9020\n",
      "9030\n",
      "9040\n",
      "9050\n",
      "9060\n",
      "9070\n",
      "9080\n",
      "9090\n",
      "9100\n",
      "9110\n",
      "9120\n",
      "9130\n",
      "9140\n",
      "9150\n",
      "9160\n",
      "9170\n",
      "9180\n",
      "9190\n",
      "9200\n",
      "9210\n",
      "9220\n",
      "9230\n",
      "9240\n",
      "9250\n",
      "9260\n",
      "9270\n",
      "9280\n",
      "9290\n",
      "9300\n",
      "9310\n",
      "9320\n",
      "9330\n",
      "9340\n",
      "9350\n",
      "9360\n",
      "9370\n",
      "9380\n",
      "9390\n",
      "9400\n",
      "9410\n",
      "9420\n",
      "9430\n",
      "9440\n",
      "9450\n",
      "9460\n",
      "9470\n",
      "9480\n",
      "9490\n",
      "9500\n",
      "9510\n",
      "9520\n",
      "9530\n",
      "9540\n",
      "9550\n",
      "9560\n",
      "9570\n",
      "9580\n",
      "9590\n",
      "9600\n",
      "9610\n",
      "9620\n",
      "9630\n",
      "9640\n",
      "9650\n",
      "9660\n",
      "9670\n",
      "9680\n",
      "9690\n",
      "9700\n",
      "9710\n",
      "9720\n",
      "9730\n",
      "9740\n",
      "9750\n",
      "9760\n",
      "9770\n",
      "9780\n",
      "9790\n",
      "9800\n",
      "9810\n",
      "9820\n",
      "9830\n",
      "9840\n",
      "9850\n",
      "9860\n",
      "9870\n",
      "9880\n",
      "9890\n",
      "9900\n",
      "9910\n",
      "9920\n",
      "9930\n",
      "9940\n",
      "9950\n",
      "9960\n",
      "9970\n",
      "9980\n",
      "9990\n",
      "Creating data:\n",
      "0\n",
      "10\n",
      "20\n",
      "30\n",
      "40\n",
      "50\n",
      "60\n",
      "70\n",
      "80\n",
      "90\n",
      "100\n",
      "110\n",
      "120\n",
      "130\n",
      "140\n",
      "150\n",
      "160\n",
      "170\n",
      "180\n",
      "190\n",
      "200\n",
      "210\n",
      "220\n",
      "230\n",
      "240\n",
      "250\n",
      "260\n",
      "270\n",
      "280\n",
      "290\n"
     ]
    }
   ],
   "source": [
    "[X_train, Y_train] = generate_dataset_regression(10000, 10)\n",
    "[X_test, Y_test] = generate_test_set_regression()\n",
    "IMAGE_SIZE=72"
   ]
  },
  {
   "cell_type": "markdown",
   "metadata": {},
   "source": [
    "The first processing to do on the Y values is to order them. We chosse to order them along the x axis. The network then knows which point to predict"
   ]
  },
  {
   "cell_type": "code",
   "execution_count": 25,
   "metadata": {},
   "outputs": [
    {
     "name": "stdout",
     "output_type": "stream",
     "text": [
      "[0.0395099  0.2589281  0.47545291 0.94383313 0.93506384 0.50777214]\n"
     ]
    },
    {
     "data": {
      "image/png": "[encoded data removed]",
      "text/plain": [
       "<Figure size 360x360 with 1 Axes>"
      ]
     },
     "metadata": {},
     "output_type": "display_data"
    }
   ],
   "source": [
    "def order(Y):\n",
    "    x = [Y[0],Y[2],Y[4]]\n",
    "    points = np.array([[Y[0],Y[1]],[Y[2],Y[3]],[Y[4],Y[5]]])\n",
    "    order = np.argsort(x)\n",
    "    sorted_points = points[order]\n",
    "    return(sorted_points.reshape((6,)))\n",
    "\n",
    "print(order(Y_train[16]))\n",
    "visualize_prediction(X_train[17],Y_train[17])"
   ]
  },
  {
   "cell_type": "code",
   "execution_count": 26,
   "metadata": {
    "collapsed": true
   },
   "outputs": [],
   "source": [
    "X_train = np.reshape(X_train,(X_train.shape[0],IMAGE_SIZE, IMAGE_SIZE,1))\n",
    "X_test = np.reshape(X_test,(X_test.shape[0],IMAGE_SIZE, IMAGE_SIZE,1))"
   ]
  },
  {
   "cell_type": "markdown",
   "metadata": {},
   "source": [
    "We create a CNN model composed of 3 convolutional/Relu/MaxPooling layers and 2 fully connected layers."
   ]
  },
  {
   "cell_type": "code",
   "execution_count": 27,
   "metadata": {
    "scrolled": true
   },
   "outputs": [
    {
     "name": "stdout",
     "output_type": "stream",
     "text": [
      "_________________________________________________________________\n",
      "Layer (type)                 Output Shape              Param #   \n",
      "=================================================================\n",
      "conv2d_3 (Conv2D)            (None, 70, 70, 32)        320       \n",
      "_________________________________________________________________\n",
      "max_pooling2d_3 (MaxPooling2 (None, 35, 35, 32)        0         \n",
      "_________________________________________________________________\n",
      "conv2d_4 (Conv2D)            (None, 33, 33, 32)        9248      \n",
      "_________________________________________________________________\n",
      "max_pooling2d_4 (MaxPooling2 (None, 16, 16, 32)        0         \n",
      "_________________________________________________________________\n",
      "conv2d_5 (Conv2D)            (None, 14, 14, 32)        9248      \n",
      "_________________________________________________________________\n",
      "max_pooling2d_5 (MaxPooling2 (None, 7, 7, 32)          0         \n",
      "_________________________________________________________________\n",
      "flatten_3 (Flatten)          (None, 1568)              0         \n",
      "_________________________________________________________________\n",
      "dropout_2 (Dropout)          (None, 1568)              0         \n",
      "_________________________________________________________________\n",
      "dense_9 (Dense)              (None, 32)                50208     \n",
      "_________________________________________________________________\n",
      "dropout_3 (Dropout)          (None, 32)                0         \n",
      "_________________________________________________________________\n",
      "dense_10 (Dense)             (None, 6)                 198       \n",
      "=================================================================\n",
      "Total params: 69,222\n",
      "Trainable params: 69,222\n",
      "Non-trainable params: 0\n",
      "_________________________________________________________________\n"
     ]
    }
   ],
   "source": [
    "model = Sequential()\n",
    "\n",
    "model.add(Conv2D(32, 3, activation='relu',\n",
    "          input_shape=(IMAGE_SIZE, IMAGE_SIZE, 1)))\n",
    "\n",
    "model.add(MaxPooling2D((2,2)))\n",
    "\n",
    "model.add(Conv2D(32, 3, activation='relu'))\n",
    "\n",
    "model.add(MaxPooling2D((2,2)))\n",
    "\n",
    "model.add(Conv2D(32, 3, activation='relu'))\n",
    "\n",
    "model.add(MaxPooling2D((2,2)))\n",
    "\n",
    "model.add(Flatten()) \n",
    "\n",
    "model.add(Dropout(0.4))\n",
    "\n",
    "model.add(Dense(32, activation='relu')) \n",
    "\n",
    "model.add(Dropout(0.2))\n",
    "\n",
    "model.add(Dense(6, activation='linear'))\n",
    "\n",
    "model.compile(loss='mse', optimizer='adam')\n",
    "\n",
    "model.summary()\n"
   ]
  },
  {
   "cell_type": "markdown",
   "metadata": {},
   "source": [
    "We add callbacks"
   ]
  },
  {
   "cell_type": "code",
   "execution_count": 28,
   "metadata": {},
   "outputs": [
    {
     "name": "stdout",
     "output_type": "stream",
     "text": [
      "Train on 10000 samples, validate on 100 samples\n",
      "Epoch 1/10\n",
      "10000/10000 [==============================] - 37s 4ms/step - loss: 0.0881 - val_loss: 0.0615\n",
      "\n",
      "Epoch 00001: val_loss improved from inf to 0.06154, saving model to model\n",
      "Epoch 2/10\n"
     ]
    },
    {
     "name": "stderr",
     "output_type": "stream",
     "text": [
      "/Users/samuelhurault/anaconda3/lib/python3.6/site-packages/keras/callbacks.py:569: RuntimeWarning: Early stopping conditioned on metric `mse` which is not available. Available metrics are: val_loss,loss\n",
      "  (self.monitor, ','.join(list(logs.keys()))), RuntimeWarning\n"
     ]
    },
    {
     "name": "stdout",
     "output_type": "stream",
     "text": [
      "10000/10000 [==============================] - 34s 3ms/step - loss: 0.0684 - val_loss: 0.0595\n",
      "\n",
      "Epoch 00002: val_loss improved from 0.06154 to 0.05950, saving model to model\n",
      "Epoch 3/10\n",
      "10000/10000 [==============================] - 34s 3ms/step - loss: 0.0649 - val_loss: 0.0590\n",
      "\n",
      "Epoch 00003: val_loss improved from 0.05950 to 0.05896, saving model to model\n",
      "Epoch 4/10\n",
      "10000/10000 [==============================] - 37s 4ms/step - loss: 0.0624 - val_loss: 0.0583\n",
      "\n",
      "Epoch 00004: val_loss improved from 0.05896 to 0.05831, saving model to model\n",
      "Epoch 5/10\n",
      "10000/10000 [==============================] - 35s 4ms/step - loss: 0.0611 - val_loss: 0.0582\n",
      "\n",
      "Epoch 00005: val_loss improved from 0.05831 to 0.05816, saving model to model\n",
      "Epoch 6/10\n",
      "10000/10000 [==============================] - 37s 4ms/step - loss: 0.0605 - val_loss: 0.0578\n",
      "\n",
      "Epoch 00006: val_loss improved from 0.05816 to 0.05784, saving model to model\n",
      "Epoch 7/10\n",
      "10000/10000 [==============================] - 35s 3ms/step - loss: 0.0599 - val_loss: 0.0582\n",
      "\n",
      "Epoch 00007: val_loss did not improve from 0.05784\n",
      "Epoch 8/10\n",
      "10000/10000 [==============================] - 35s 4ms/step - loss: 0.0594 - val_loss: 0.0571\n",
      "\n",
      "Epoch 00008: val_loss improved from 0.05784 to 0.05711, saving model to model\n",
      "Epoch 9/10\n",
      "10000/10000 [==============================] - 34s 3ms/step - loss: 0.0589 - val_loss: 0.0574\n",
      "\n",
      "Epoch 00009: val_loss did not improve from 0.05711\n",
      "Epoch 10/10\n",
      "10000/10000 [==============================] - 34s 3ms/step - loss: 0.0586 - val_loss: 0.0576\n",
      "\n",
      "Epoch 00010: val_loss did not improve from 0.05711\n"
     ]
    },
    {
     "data": {
      "text/plain": [
       "<keras.callbacks.History at 0x122728630>"
      ]
     },
     "execution_count": 28,
     "metadata": {},
     "output_type": "execute_result"
    }
   ],
   "source": [
    "# early-stopping of the mse on the validation data does not decrease\n",
    "early_stopping = EarlyStopping(monitor='mse', \n",
    "                                   patience=2,\n",
    "                                   mode='min')\n",
    "    \n",
    "# save model corresponding to best epoch\n",
    "checkpointer = ModelCheckpoint(filepath='model', \n",
    "                                   verbose=1, \n",
    "                                   save_best_only=True,\n",
    "                                   save_weights_only=True)\n",
    "\n",
    "\n",
    "model.fit(X_train,Y_train,batch_size=32, epochs=10, verbose=1,callbacks = [early_stopping,checkpointer],\n",
    "         validation_data = [X_test[:100],Y_test[:100]])"
   ]
  },
  {
   "cell_type": "code",
   "execution_count": 31,
   "metadata": {},
   "outputs": [
    {
     "data": {
      "image/png": "[encoded data removed]",
      "text/plain": [
       "<Figure size 360x360 with 1 Axes>"
      ]
     },
     "metadata": {},
     "output_type": "display_data"
    },
    {
     "data": {
      "image/png": "[encoded data removed]",
      "text/plain": [
       "<Figure size 360x360 with 1 Axes>"
      ]
     },
     "metadata": {},
     "output_type": "display_data"
    },
    {
     "data": {
      "image/png": "[encoded data removed]",
      "text/plain": [
       "<Figure size 360x360 with 1 Axes>"
      ]
     },
     "metadata": {},
     "output_type": "display_data"
    },
    {
     "data": {
      "image/png": "[encoded data removed]",
      "text/plain": [
       "<Figure size 360x360 with 1 Axes>"
      ]
     },
     "metadata": {},
     "output_type": "display_data"
    },
    {
     "data": {
      "image/png": "[encoded data removed]",
      "text/plain": [
       "<Figure size 360x360 with 1 Axes>"
      ]
     },
     "metadata": {},
     "output_type": "display_data"
    },
    {
     "data": {
      "image/png": "[encoded data removed]",
      "text/plain": [
       "<Figure size 360x360 with 1 Axes>"
      ]
     },
     "metadata": {},
     "output_type": "display_data"
    },
    {
     "data": {
      "image/png": "[encoded data removed]",
      "text/plain": [
       "<Figure size 360x360 with 1 Axes>"
      ]
     },
     "metadata": {},
     "output_type": "display_data"
    },
    {
     "data": {
      "image/png": "[encoded data removed]",
      "text/plain": [
       "<Figure size 360x360 with 1 Axes>"
      ]
     },
     "metadata": {},
     "output_type": "display_data"
    },
    {
     "data": {
      "image/png": "[encoded data removed]",
      "text/plain": [
       "<Figure size 360x360 with 1 Axes>"
      ]
     },
     "metadata": {},
     "output_type": "display_data"
    },
    {
     "data": {
      "image/png": "[encoded data removed]",
      "text/plain": [
       "<Figure size 360x360 with 1 Axes>"
      ]
     },
     "metadata": {},
     "output_type": "display_data"
    }
   ],
   "source": [
    "result = model.predict(X_test)\n",
    "for i in range(10):\n",
    "    visualize_prediction(X_test[i],result[i])"
   ]
  },
  {
   "cell_type": "markdown",
   "metadata": {},
   "source": [
    "The network does not converge, despite different tries on the shape and size of the network, I did not succeed to improve the results."
   ]
  },
  {
   "cell_type": "markdown",
   "metadata": {},
   "source": [
    "## Image Denoising"
   ]
  },
  {
   "cell_type": "markdown",
   "metadata": {},
   "source": [
    "We use the cifar10 dataset composed of 50000 natural color images of size $32 \\times 32 \\times3$. We transform the color images to grayscale, to reduce computational time. In order to denoise color images, we will just have to apply the algorithm to each image layer. "
   ]
  },
  {
   "cell_type": "code",
   "execution_count": 32,
   "metadata": {
    "collapsed": true
   },
   "outputs": [],
   "source": [
    "import matplotlib.pyplot as plt\n",
    "import numpy as np\n",
    "from mp1 import *\n",
    "import np_utils\n",
    "%matplotlib inline\n",
    "from keras.utils import np_utils\n",
    "from keras.models import Sequential, Model\n",
    "from keras.layers import Dropout , Flatten, MaxPooling2D, Input, Embedding, Dropout, Bidirectional, GRU, TimeDistributed, Dense,UpSampling2D, Conv2D\n",
    "from sklearn.model_selection import train_test_split\n",
    "from keras.callbacks import TensorBoard\n",
    "\n",
    "IMAGE_SIZE = 32"
   ]
  },
  {
   "cell_type": "code",
   "execution_count": 33,
   "metadata": {
    "collapsed": true,
    "scrolled": false
   },
   "outputs": [],
   "source": [
    "from keras.datasets import cifar10\n",
    "(X_train, _), (X_test, _) = cifar10.load_data()"
   ]
  },
  {
   "cell_type": "code",
   "execution_count": 34,
   "metadata": {
    "collapsed": true
   },
   "outputs": [],
   "source": [
    "def RGB2Gray(im):\n",
    "    im = im/255.\n",
    "    return((im[:,:,0]+im[:,:,1]+im[:,:,2])/3.)\n",
    "\n",
    "def add_noise(im,noise_std=0):\n",
    "    noise = noise_std/255.\n",
    "    imsize=im.shape\n",
    "    im_noisy = im + noise * np.random.randn(imsize[0],imsize[1])\n",
    "    im_noisy = im_noisy.clip(0., 1.)\n",
    "    return(im_noisy)"
   ]
  },
  {
   "cell_type": "code",
   "execution_count": 35,
   "metadata": {
    "collapsed": true
   },
   "outputs": [],
   "source": [
    "X_train = np.array([RGB2Gray(X_train[i,:,:,:]) for i in range(len(X_train))])\n",
    "X_test = np.array([RGB2Gray(X_test[i,:,:,:]) for i in range(len(X_test))])"
   ]
  },
  {
   "cell_type": "code",
   "execution_count": 36,
   "metadata": {
    "collapsed": true
   },
   "outputs": [],
   "source": [
    "#noise standart deviation of 30\n",
    "noise_std = 10"
   ]
  },
  {
   "cell_type": "code",
   "execution_count": 37,
   "metadata": {
    "collapsed": true
   },
   "outputs": [],
   "source": [
    "X_train_noisy = np.array([add_noise(X_train[i,:,:],noise_std=noise_std) for i in range (len(X_train))])\n",
    "X_test_noisy = np.array([add_noise(X_test[i,:,:],noise_std=noise_std) for i in range (len(X_test))])\n",
    "\n",
    "X_train = X_train.reshape(-1, 32, 32, 1)\n",
    "X_train_noisy = X_train_noisy.reshape(-1, 32, 32, 1)\n",
    "X_test  = X_test.reshape(-1, 32, 32, 1)\n",
    "X_test_noisy = X_test_noisy.reshape(-1, 32, 32, 1)"
   ]
  },
  {
   "cell_type": "markdown",
   "metadata": {},
   "source": [
    "We display several exemples of the inpuy / noisy pairs"
   ]
  },
  {
   "cell_type": "code",
   "execution_count": 38,
   "metadata": {},
   "outputs": [
    {
     "data": {
      "image/png": "[encoded data removed]",
      "text/plain": [
       "<Figure size 1440x144 with 10 Axes>"
      ]
     },
     "metadata": {},
     "output_type": "display_data"
    },
    {
     "data": {
      "image/png": "[encoded data removed]",
      "text/plain": [
       "<Figure size 1440x144 with 10 Axes>"
      ]
     },
     "metadata": {},
     "output_type": "display_data"
    }
   ],
   "source": [
    "n = 10\n",
    "plt.figure(figsize=(20, 2))\n",
    "for i in range(n):\n",
    "    ax = plt.subplot(1, n, i+1)\n",
    "    plt.imshow(X_train[i,:,:,0],cmap='gray')\n",
    "    ax.get_xaxis().set_visible(False)\n",
    "    ax.get_yaxis().set_visible(False)\n",
    "\n",
    "\n",
    "\n",
    "plt.figure(figsize=(20, 2))\n",
    "for i in range(n):\n",
    "    ax = plt.subplot(1, n, i+1)\n",
    "    plt.imshow(X_train_noisy[i,:,:,0],cmap='gray')\n",
    "    ax.get_xaxis().set_visible(False)\n",
    "    ax.get_yaxis().set_visible(False)\n",
    "\n",
    "plt.show()"
   ]
  },
  {
   "cell_type": "markdown",
   "metadata": {},
   "source": [
    "We use the following autoencoder architecture. The encoder is composed of 3 conv2D/Relu/MaxPooling layers. The decoder is composed of 3 conv2D/UpSampling layers"
   ]
  },
  {
   "cell_type": "code",
   "execution_count": 39,
   "metadata": {
    "scrolled": true
   },
   "outputs": [
    {
     "data": {
      "text/plain": [
       "<bound method Network.summary of <keras.engine.sequential.Sequential object at 0x1222b3048>>"
      ]
     },
     "execution_count": 39,
     "metadata": {},
     "output_type": "execute_result"
    }
   ],
   "source": [
    "autoencoder = models.Sequential()\n",
    "\n",
    "encoding_layers = [\n",
    "\n",
    "Conv2D(32, 3, padding='same',input_shape=(32,32,1)),\n",
    "BatchNormalization() ,\n",
    "Activation('relu'),\n",
    "MaxPooling2D(padding='same'),\n",
    "Conv2D(32, 3, padding='same'),\n",
    "BatchNormalization() ,\n",
    "Activation('relu'),\n",
    "MaxPooling2D(padding='same'),\n",
    "Conv2D(32, 3, padding='same'),\n",
    "BatchNormalization() ,\n",
    "Activation('relu'),\n",
    "MaxPooling2D(padding='same') ]\n",
    "    \n",
    "decoding_layers = [\n",
    "Conv2D(32, 3, padding='same'),\n",
    "UpSampling2D(),\n",
    "Conv2D(32, 3, padding='same'),\n",
    "UpSampling2D(),\n",
    "Conv2D(32, 3, padding='same'),\n",
    "UpSampling2D(),\n",
    "Conv2D(1, 3, activation='sigmoid', padding='same')\n",
    "]\n",
    "\n",
    "autoencoder.encoding_layers = encoding_layers\n",
    "for l in autoencoder.encoding_layers:\n",
    "    autoencoder.add(l)\n",
    "    \n",
    "autoencoder.decoding_layers = decoding_layers\n",
    "for l in autoencoder.decoding_layers:\n",
    "    autoencoder.add(l)\n",
    "\n",
    "# autoencoder\n",
    "autoencoder.compile(optimizer='adadelta', loss='binary_crossentropy')\n",
    "autoencoder.summary"
   ]
  },
  {
   "cell_type": "code",
   "execution_count": 40,
   "metadata": {
    "scrolled": false
   },
   "outputs": [
    {
     "name": "stdout",
     "output_type": "stream",
     "text": [
      "Train on 1000 samples, validate on 500 samples\n",
      "Epoch 1/50\n",
      "1000/1000 [==============================] - 6s 6ms/step - loss: 0.8161 - val_loss: 0.6422\n",
      "\n",
      "Epoch 00001: val_loss improved from inf to 0.64219, saving model to model\n",
      "Epoch 2/50\n",
      "1000/1000 [==============================] - 5s 5ms/step - loss: 0.6350 - val_loss: 0.6296\n",
      "\n",
      "Epoch 00002: val_loss improved from 0.64219 to 0.62959, saving model to model\n",
      "Epoch 3/50\n",
      "1000/1000 [==============================] - 5s 5ms/step - loss: 0.6262 - val_loss: 0.6214\n",
      "\n",
      "Epoch 00003: val_loss improved from 0.62959 to 0.62139, saving model to model\n",
      "Epoch 4/50\n",
      "1000/1000 [==============================] - 4s 4ms/step - loss: 0.6217 - val_loss: 0.6183\n",
      "\n",
      "Epoch 00004: val_loss improved from 0.62139 to 0.61827, saving model to model\n",
      "Epoch 5/50\n",
      "1000/1000 [==============================] - 4s 4ms/step - loss: 0.6181 - val_loss: 0.6153\n",
      "\n",
      "Epoch 00005: val_loss improved from 0.61827 to 0.61528, saving model to model\n",
      "Epoch 6/50\n",
      "1000/1000 [==============================] - 4s 4ms/step - loss: 0.6191 - val_loss: 0.6134\n",
      "\n",
      "Epoch 00006: val_loss improved from 0.61528 to 0.61343, saving model to model\n",
      "Epoch 7/50\n",
      "1000/1000 [==============================] - 4s 4ms/step - loss: 0.6153 - val_loss: 0.6109\n",
      "\n",
      "Epoch 00007: val_loss improved from 0.61343 to 0.61085, saving model to model\n",
      "Epoch 8/50\n",
      "1000/1000 [==============================] - 4s 4ms/step - loss: 0.6119 - val_loss: 0.6148\n",
      "\n",
      "Epoch 00008: val_loss did not improve from 0.61085\n",
      "Epoch 9/50\n",
      "1000/1000 [==============================] - 5s 5ms/step - loss: 0.6154 - val_loss: 0.6099\n",
      "\n",
      "Epoch 00009: val_loss improved from 0.61085 to 0.60993, saving model to model\n",
      "Epoch 10/50\n",
      "1000/1000 [==============================] - 4s 4ms/step - loss: 0.6096 - val_loss: 0.6159\n",
      "\n",
      "Epoch 00010: val_loss did not improve from 0.60993\n",
      "Epoch 11/50\n",
      "1000/1000 [==============================] - 4s 4ms/step - loss: 0.6153 - val_loss: 0.6062\n",
      "\n",
      "Epoch 00011: val_loss improved from 0.60993 to 0.60618, saving model to model\n",
      "Epoch 12/50\n",
      "1000/1000 [==============================] - 4s 4ms/step - loss: 0.6078 - val_loss: 0.6063\n",
      "\n",
      "Epoch 00012: val_loss did not improve from 0.60618\n",
      "Epoch 13/50\n",
      "1000/1000 [==============================] - 5s 5ms/step - loss: 0.6059 - val_loss: 0.6028\n",
      "\n",
      "Epoch 00013: val_loss improved from 0.60618 to 0.60285, saving model to model\n",
      "Epoch 14/50\n",
      "1000/1000 [==============================] - 4s 4ms/step - loss: 0.6077 - val_loss: 0.6271\n",
      "\n",
      "Epoch 00014: val_loss did not improve from 0.60285\n",
      "Epoch 15/50\n",
      "1000/1000 [==============================] - 4s 4ms/step - loss: 0.6075 - val_loss: 0.6055\n",
      "\n",
      "Epoch 00015: val_loss did not improve from 0.60285\n"
     ]
    },
    {
     "data": {
      "text/plain": [
       "<keras.callbacks.History at 0x123798c50>"
      ]
     },
     "execution_count": 40,
     "metadata": {},
     "output_type": "execute_result"
    }
   ],
   "source": [
    "early_stopping = EarlyStopping(monitor='val_loss', # go through epochs as long as accuracy on validation set increases\n",
    "                                   patience=2,\n",
    "                                   mode='min')\n",
    "    \n",
    "# save model corresponding to best epoch\n",
    "checkpointer = ModelCheckpoint(filepath='model', \n",
    "                                   verbose=1, \n",
    "                                   save_best_only=True,\n",
    "                                   save_weights_only=True)\n",
    "\n",
    "\n",
    "autoencoder.fit(X_train_noisy[:1000], X_train[:1000], \n",
    "                epochs=50, \n",
    "                batch_size=128, \n",
    "                validation_data=(X_test_noisy[:500], X_test[:500]),\n",
    "                callbacks = [early_stopping,checkpointer])"
   ]
  },
  {
   "cell_type": "code",
   "execution_count": 41,
   "metadata": {
    "collapsed": true
   },
   "outputs": [],
   "source": [
    "denoised = autoencoder.predict(X_test)"
   ]
  },
  {
   "cell_type": "code",
   "execution_count": 42,
   "metadata": {},
   "outputs": [
    {
     "data": {
      "image/png": "[encoded data removed]",
      "text/plain": [
       "<Figure size 1440x144 with 10 Axes>"
      ]
     },
     "metadata": {},
     "output_type": "display_data"
    },
    {
     "data": {
      "image/png": "[encoded data removed]",
      "text/plain": [
       "<Figure size 1440x144 with 10 Axes>"
      ]
     },
     "metadata": {},
     "output_type": "display_data"
    },
    {
     "data": {
      "image/png": "[encoded data removed]",
      "text/plain": [
       "<Figure size 1440x144 with 10 Axes>"
      ]
     },
     "metadata": {},
     "output_type": "display_data"
    }
   ],
   "source": [
    "n = 10\n",
    "\n",
    "plt.figure(figsize=(20, 2))\n",
    "for i in range(n):\n",
    "    ax = plt.subplot(1, n, i+1)\n",
    "    plt.imshow(X_test[i,:,:,0],cmap='gray')\n",
    "    ax.get_xaxis().set_visible(False)\n",
    "    ax.get_yaxis().set_visible(False)\n",
    "\n",
    "\n",
    "plt.figure(figsize=(20, 2))\n",
    "for i in range(n):\n",
    "    ax = plt.subplot(1, n, i+1)\n",
    "    plt.imshow(X_test_noisy[i,:,:,0],cmap='gray')\n",
    "    ax.get_xaxis().set_visible(False)\n",
    "    ax.get_yaxis().set_visible(False)\n",
    "    \n",
    "    \n",
    "plt.figure(figsize=(20, 2))\n",
    "for i in range(n):\n",
    "    ax = plt.subplot(1, n, i+1)\n",
    "    plt.imshow(denoised[i,:,:,0],cmap='gray')\n",
    "    ax.get_xaxis().set_visible(False)\n",
    "    ax.get_yaxis().set_visible(False)\n",
    "\n",
    "plt.show()"
   ]
  },
  {
   "cell_type": "markdown",
   "metadata": {},
   "source": [
    "The result is not precise. The network basically only blurs the images and will be far from being competitive with state of the art denoising methods. We would need a much larger architecture to have satisdying results, but we are limited by the CPU capacities"
   ]
  }
 ],
 "metadata": {
  "kernelspec": {
   "display_name": "Python 3",
   "language": "python",
   "name": "python3"
  },
  "language_info": {
   "codemirror_mode": {
    "name": "ipython",
    "version": 3
   },
   "file_extension": ".py",
   "mimetype": "text/x-python",
   "name": "python",
   "nbconvert_exporter": "python",
   "pygments_lexer": "ipython3",
   "version": "3.6.3"
  }
 },
 "nbformat": 4,
 "nbformat_minor": 2
}
